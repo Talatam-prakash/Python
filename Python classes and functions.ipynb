{
 "cells": [
  {
   "cell_type": "markdown",
   "id": "aff7a758",
   "metadata": {},
   "source": [
    "## Strings"
   ]
  },
  {
   "cell_type": "code",
   "execution_count": 3,
   "id": "9bee3975",
   "metadata": {},
   "outputs": [
    {
     "data": {
      "text/plain": [
       "'hello world!'"
      ]
     },
     "execution_count": 3,
     "metadata": {},
     "output_type": "execute_result"
    }
   ],
   "source": [
    "str1=\"hello world!\"\n",
    "str1"
   ]
  },
  {
   "cell_type": "code",
   "execution_count": 1,
   "id": "6e5eb538",
   "metadata": {},
   "outputs": [
    {
     "name": "stdout",
     "output_type": "stream",
     "text": [
      " hello \n",
      "     world\n"
     ]
    }
   ],
   "source": [
    "str2=''' hello \n",
    "     world'''\n",
    "print(str2)"
   ]
  },
  {
   "cell_type": "code",
   "execution_count": 5,
   "id": "132afc55",
   "metadata": {},
   "outputs": [
    {
     "data": {
      "text/plain": [
       "'hello world!hello world!hello world!'"
      ]
     },
     "execution_count": 5,
     "metadata": {},
     "output_type": "execute_result"
    }
   ],
   "source": [
    "str1*3"
   ]
  },
  {
   "cell_type": "code",
   "execution_count": 6,
   "id": "0092b4bc",
   "metadata": {},
   "outputs": [
    {
     "data": {
      "text/plain": [
       "12"
      ]
     },
     "execution_count": 6,
     "metadata": {},
     "output_type": "execute_result"
    }
   ],
   "source": [
    "len(str1)"
   ]
  },
  {
   "cell_type": "code",
   "execution_count": 7,
   "id": "9023f5e5",
   "metadata": {},
   "outputs": [
    {
     "data": {
      "text/plain": [
       "'hello worl'"
      ]
     },
     "execution_count": 7,
     "metadata": {},
     "output_type": "execute_result"
    }
   ],
   "source": [
    "str1[0:10]"
   ]
  },
  {
   "cell_type": "code",
   "execution_count": 8,
   "id": "287600fd",
   "metadata": {},
   "outputs": [
    {
     "data": {
      "text/plain": [
       "'orld!'"
      ]
     },
     "execution_count": 8,
     "metadata": {},
     "output_type": "execute_result"
    }
   ],
   "source": [
    "str1[-5:]"
   ]
  },
  {
   "cell_type": "code",
   "execution_count": 9,
   "id": "5eabe3a3",
   "metadata": {},
   "outputs": [
    {
     "data": {
      "text/plain": [
       "'hello world!'"
      ]
     },
     "execution_count": 9,
     "metadata": {},
     "output_type": "execute_result"
    }
   ],
   "source": [
    "str1[:]"
   ]
  },
  {
   "cell_type": "code",
   "execution_count": 10,
   "id": "1b1880b4",
   "metadata": {},
   "outputs": [
    {
     "data": {
      "text/plain": [
       "'!dlrow olleh'"
      ]
     },
     "execution_count": 10,
     "metadata": {},
     "output_type": "execute_result"
    }
   ],
   "source": [
    "str1[::-1]"
   ]
  },
  {
   "cell_type": "code",
   "execution_count": 11,
   "id": "dd36c673",
   "metadata": {},
   "outputs": [
    {
     "data": {
      "text/plain": [
       "'hello world!this is python'"
      ]
     },
     "execution_count": 11,
     "metadata": {},
     "output_type": "execute_result"
    }
   ],
   "source": [
    "str3=str1+\"this is python\"\n",
    "str3"
   ]
  },
  {
   "cell_type": "code",
   "execution_count": 12,
   "id": "cbaae347",
   "metadata": {},
   "outputs": [
    {
     "name": "stdout",
     "output_type": "stream",
     "text": [
      "h\n",
      "e\n",
      "l\n",
      "l\n",
      "o\n",
      " \n",
      "w\n",
      "o\n",
      "r\n",
      "l\n",
      "d\n",
      "!\n"
     ]
    }
   ],
   "source": [
    "for i in str1:\n",
    "    print(i)"
   ]
  },
  {
   "cell_type": "code",
   "execution_count": 13,
   "id": "841d6629",
   "metadata": {},
   "outputs": [
    {
     "ename": "TypeError",
     "evalue": "'str' object does not support item assignment",
     "output_type": "error",
     "traceback": [
      "\u001b[0;31m---------------------------------------------------------------------------\u001b[0m",
      "\u001b[0;31mTypeError\u001b[0m                                 Traceback (most recent call last)",
      "Input \u001b[0;32mIn [13]\u001b[0m, in \u001b[0;36m<cell line: 1>\u001b[0;34m()\u001b[0m\n\u001b[0;32m----> 1\u001b[0m str1[\u001b[38;5;241m6\u001b[39m]\u001b[38;5;241m=\u001b[39m\u001b[38;5;124m\"\u001b[39m\u001b[38;5;124me\u001b[39m\u001b[38;5;124m\"\u001b[39m\n",
      "\u001b[0;31mTypeError\u001b[0m: 'str' object does not support item assignment"
     ]
    }
   ],
   "source": [
    "str1[6]=\"e\""
   ]
  },
  {
   "cell_type": "code",
   "execution_count": 14,
   "id": "a305d72c",
   "metadata": {},
   "outputs": [
    {
     "data": {
      "text/plain": [
       "'hello students'"
      ]
     },
     "execution_count": 14,
     "metadata": {},
     "output_type": "execute_result"
    }
   ],
   "source": [
    "strr=\"     hello students    \"\n",
    "strr.strip()"
   ]
  },
  {
   "cell_type": "code",
   "execution_count": 15,
   "id": "10a3c8d6",
   "metadata": {},
   "outputs": [
    {
     "data": {
      "text/plain": [
       "'hello world!'"
      ]
     },
     "execution_count": 15,
     "metadata": {},
     "output_type": "execute_result"
    }
   ],
   "source": [
    "str1.lower()"
   ]
  },
  {
   "cell_type": "code",
   "execution_count": 16,
   "id": "1e036ab1",
   "metadata": {},
   "outputs": [
    {
     "data": {
      "text/plain": [
       "'HELLO WORLD!'"
      ]
     },
     "execution_count": 16,
     "metadata": {},
     "output_type": "execute_result"
    }
   ],
   "source": [
    "str1.upper()\n"
   ]
  },
  {
   "cell_type": "code",
   "execution_count": 17,
   "id": "35ff1fa6",
   "metadata": {},
   "outputs": [
    {
     "data": {
      "text/plain": [
       "'hallo world!'"
      ]
     },
     "execution_count": 17,
     "metadata": {},
     "output_type": "execute_result"
    }
   ],
   "source": [
    "str1.replace(\"he\",'ha')"
   ]
  },
  {
   "cell_type": "code",
   "execution_count": 18,
   "id": "21058a14",
   "metadata": {},
   "outputs": [
    {
     "data": {
      "text/plain": [
       "True"
      ]
     },
     "execution_count": 18,
     "metadata": {},
     "output_type": "execute_result"
    }
   ],
   "source": [
    "str1.startswith(\"he\")"
   ]
  },
  {
   "cell_type": "code",
   "execution_count": 19,
   "id": "a94cdd10",
   "metadata": {},
   "outputs": [
    {
     "data": {
      "text/plain": [
       "'hello world!'"
      ]
     },
     "execution_count": 19,
     "metadata": {},
     "output_type": "execute_result"
    }
   ],
   "source": [
    "str1"
   ]
  },
  {
   "cell_type": "code",
   "execution_count": 20,
   "id": "b48cc622",
   "metadata": {},
   "outputs": [
    {
     "data": {
      "text/plain": [
       "False"
      ]
     },
     "execution_count": 20,
     "metadata": {},
     "output_type": "execute_result"
    }
   ],
   "source": [
    "str1.endswith(\"ld\")"
   ]
  },
  {
   "cell_type": "code",
   "execution_count": 21,
   "id": "6ccbee63",
   "metadata": {},
   "outputs": [
    {
     "data": {
      "text/plain": [
       "['hello', 'world!']"
      ]
     },
     "execution_count": 21,
     "metadata": {},
     "output_type": "execute_result"
    }
   ],
   "source": [
    "li=list(str1.split(\" \"))\n",
    "li"
   ]
  },
  {
   "cell_type": "code",
   "execution_count": 22,
   "id": "6c477452",
   "metadata": {},
   "outputs": [
    {
     "name": "stdout",
     "output_type": "stream",
     "text": [
      "False\n",
      "False\n",
      "False\n"
     ]
    }
   ],
   "source": [
    "print(str1.isalpha())\n",
    "print(str1.isnumeric())\n",
    "print(str1.isalnum())"
   ]
  },
  {
   "cell_type": "code",
   "execution_count": 23,
   "id": "6e4508d7",
   "metadata": {},
   "outputs": [
    {
     "name": "stdout",
     "output_type": "stream",
     "text": [
      "True\n",
      "True\n",
      "True\n",
      "False\n"
     ]
    }
   ],
   "source": [
    "st='abaddfd'\n",
    "st1=\"afd233\"\n",
    "st2='123232'\n",
    "print(st.isalpha())\n",
    "print(st1.isalnum())\n",
    "print(st2.isnumeric())\n",
    "print(st1.isdecimal())"
   ]
  },
  {
   "cell_type": "markdown",
   "id": "06ac91dc",
   "metadata": {},
   "source": [
    "## LOOPS"
   ]
  },
  {
   "cell_type": "code",
   "execution_count": 24,
   "id": "4623f4a5",
   "metadata": {},
   "outputs": [
    {
     "name": "stdout",
     "output_type": "stream",
     "text": [
      "0\n",
      "1\n",
      "2\n",
      "3\n",
      "4\n",
      "5\n",
      "6\n",
      "7\n",
      "8\n",
      "9\n",
      "10\n",
      "11\n",
      "12\n",
      "13\n",
      "14\n",
      "15\n",
      "16\n",
      "17\n",
      "18\n",
      "19\n",
      "loop ends\n"
     ]
    }
   ],
   "source": [
    "for i in range(0,20):\n",
    "    if(i==5):\n",
    "        pass\n",
    "    print(i)\n",
    "print(\"loop ends\")"
   ]
  },
  {
   "cell_type": "code",
   "execution_count": 4,
   "id": "ff12dbd2",
   "metadata": {},
   "outputs": [
    {
     "name": "stdout",
     "output_type": "stream",
     "text": [
      "0\n",
      "1\n",
      "2\n",
      "3\n",
      "4\n",
      "loop ends\n",
      "5\n"
     ]
    }
   ],
   "source": [
    "for i in range(0,20):\n",
    "    if(i==5):\n",
    "        break\n",
    "    print(i)\n",
    "print(\"loop ends\")\n",
    "print(i)"
   ]
  },
  {
   "cell_type": "code",
   "execution_count": 26,
   "id": "4a5b444b",
   "metadata": {},
   "outputs": [
    {
     "name": "stdout",
     "output_type": "stream",
     "text": [
      "0\n",
      "1\n",
      "2\n",
      "3\n",
      "4\n",
      "6\n",
      "7\n",
      "8\n",
      "9\n",
      "10\n",
      "11\n",
      "12\n",
      "13\n",
      "14\n",
      "15\n",
      "16\n",
      "17\n",
      "18\n",
      "19\n",
      "loop ends\n"
     ]
    }
   ],
   "source": [
    "for i in range(0,20):\n",
    "    if(i==5):\n",
    "        continue\n",
    "    print(i)\n",
    "print(\"loop ends\")"
   ]
  },
  {
   "cell_type": "markdown",
   "id": "de965225",
   "metadata": {},
   "source": [
    "## classes and objects"
   ]
  },
  {
   "cell_type": "code",
   "execution_count": 27,
   "id": "a22b524c",
   "metadata": {},
   "outputs": [
    {
     "name": "stdout",
     "output_type": "stream",
     "text": [
      "hello\n"
     ]
    }
   ],
   "source": [
    "class student:\n",
    "    def __init__(self):\n",
    "        print('hello')\n",
    "a=student()"
   ]
  },
  {
   "cell_type": "code",
   "execution_count": 28,
   "id": "a4377ccb",
   "metadata": {},
   "outputs": [
    {
     "name": "stdout",
     "output_type": "stream",
     "text": [
      "190497 prakash\n",
      "190885 arujun\n"
     ]
    },
    {
     "data": {
      "text/plain": [
       "False"
      ]
     },
     "execution_count": 28,
     "metadata": {},
     "output_type": "execute_result"
    }
   ],
   "source": [
    "class stud:\n",
    "    def __init__(self,iid,name):\n",
    "        self.iid=iid\n",
    "        self.name=name\n",
    "    def upd(self):\n",
    "        print(self.iid,self.name)\n",
    "    \n",
    " \n",
    "    def compare(self,other):\n",
    "        if self.name==other.name:\n",
    "            return True\n",
    "        else:\n",
    "            return False\n",
    "s1=stud('190497','prakash')\n",
    "s2=stud('190885','arujun')\n",
    "s1.upd()\n",
    "s2.upd()\n",
    "\n",
    "s1.compare(s2)"
   ]
  },
  {
   "cell_type": "code",
   "execution_count": 29,
   "id": "4094f69f",
   "metadata": {},
   "outputs": [
    {
     "name": "stdout",
     "output_type": "stream",
     "text": [
      "hello\n",
      "world\n"
     ]
    }
   ],
   "source": [
    "class std:\n",
    "    def __init__(self):\n",
    "        print(\"hello\")\n",
    "        self.details=self.details()\n",
    "    class details:\n",
    "        def __init__(self):\n",
    "            print(\"world\")\n",
    "st1=std()\n"
   ]
  },
  {
   "cell_type": "markdown",
   "id": "b40e86ad",
   "metadata": {},
   "source": [
    "## Functions"
   ]
  },
  {
   "cell_type": "code",
   "execution_count": 2,
   "id": "5eac035e",
   "metadata": {},
   "outputs": [
    {
     "name": "stdout",
     "output_type": "stream",
     "text": [
      "hello\n"
     ]
    }
   ],
   "source": [
    "def fun1():\n",
    "   print(\"hello\")\n",
    "fun1()"
   ]
  },
  {
   "cell_type": "code",
   "execution_count": 8,
   "id": "1282d955",
   "metadata": {},
   "outputs": [
    {
     "name": "stdout",
     "output_type": "stream",
     "text": [
      "square of the 9 is 7\n"
     ]
    }
   ],
   "source": [
    "def square(n):\n",
    "    return n-2\n",
    "square(123)\n",
    "print(\"square of the 9 is\",square(9))"
   ]
  },
  {
   "cell_type": "code",
   "execution_count": 32,
   "id": "99c42185",
   "metadata": {},
   "outputs": [
    {
     "name": "stdout",
     "output_type": "stream",
     "text": [
      "factorial of 5 is 120\n"
     ]
    }
   ],
   "source": [
    "def fact(n):\n",
    "    if(n==1):\n",
    "        return 1\n",
    "    else :\n",
    "        return n*fact(n-1)\n",
    "print(\"factorial of 5 is\",fact(5))"
   ]
  },
  {
   "cell_type": "code",
   "execution_count": 7,
   "id": "a77d220a",
   "metadata": {},
   "outputs": [],
   "source": [
    "abc=list(range(0,10))"
   ]
  },
  {
   "cell_type": "code",
   "execution_count": 4,
   "id": "20e1fa6b",
   "metadata": {},
   "outputs": [
    {
     "data": {
      "text/plain": [
       "[0, 1, 2, 3, 4, 5, 6, 7, 8, 9]"
      ]
     },
     "execution_count": 4,
     "metadata": {},
     "output_type": "execute_result"
    }
   ],
   "source": [
    "abc"
   ]
  },
  {
   "cell_type": "code",
   "execution_count": 16,
   "id": "42420595",
   "metadata": {},
   "outputs": [
    {
     "name": "stdout",
     "output_type": "stream",
     "text": [
      "abcdefgh\n",
      "afdaf\n",
      "afafa\n"
     ]
    }
   ],
   "source": [
    "for k in [\"abcdefgh\",\"afdaf\",\"afafa\"]:\n",
    "    print(k)\n"
   ]
  },
  {
   "cell_type": "code",
   "execution_count": 17,
   "id": "90e709be",
   "metadata": {},
   "outputs": [],
   "source": [
    "li=[1,2,3,54,6]\n"
   ]
  },
  {
   "cell_type": "code",
   "execution_count": 18,
   "id": "d7a04345",
   "metadata": {},
   "outputs": [],
   "source": [
    "li.insert(2,100)"
   ]
  },
  {
   "cell_type": "code",
   "execution_count": 19,
   "id": "1bca619b",
   "metadata": {},
   "outputs": [
    {
     "data": {
      "text/plain": [
       "[1, 2, 100, 3, 54, 6]"
      ]
     },
     "execution_count": 19,
     "metadata": {},
     "output_type": "execute_result"
    }
   ],
   "source": [
    "li"
   ]
  },
  {
   "cell_type": "code",
   "execution_count": 29,
   "id": "56091723",
   "metadata": {},
   "outputs": [
    {
     "data": {
      "text/plain": [
       "[1, 2, 3, 6, 54, 100]"
      ]
     },
     "execution_count": 29,
     "metadata": {},
     "output_type": "execute_result"
    }
   ],
   "source": [
    "li.sort(reverse=False)\n",
    "li"
   ]
  },
  {
   "cell_type": "code",
   "execution_count": 30,
   "id": "009010d6",
   "metadata": {},
   "outputs": [
    {
     "data": {
      "text/plain": [
       "[1, 2, 3, 6, 54, 100]"
      ]
     },
     "execution_count": 30,
     "metadata": {},
     "output_type": "execute_result"
    }
   ],
   "source": [
    "li"
   ]
  },
  {
   "cell_type": "code",
   "execution_count": 10,
   "id": "458905d3",
   "metadata": {},
   "outputs": [],
   "source": [
    "ans=square(1134)"
   ]
  },
  {
   "cell_type": "code",
   "execution_count": 11,
   "id": "74de0340",
   "metadata": {},
   "outputs": [
    {
     "data": {
      "text/plain": [
       "1132"
      ]
     },
     "execution_count": 11,
     "metadata": {},
     "output_type": "execute_result"
    }
   ],
   "source": [
    "ans"
   ]
  },
  {
   "cell_type": "code",
   "execution_count": 12,
   "id": "c67ad1db",
   "metadata": {},
   "outputs": [
    {
     "data": {
      "text/plain": [
       "1132"
      ]
     },
     "execution_count": 12,
     "metadata": {},
     "output_type": "execute_result"
    }
   ],
   "source": [
    "ans"
   ]
  },
  {
   "cell_type": "code",
   "execution_count": null,
   "id": "6baa42ec",
   "metadata": {},
   "outputs": [],
   "source": []
  }
 ],
 "metadata": {
  "kernelspec": {
   "display_name": "Python 3 (ipykernel)",
   "language": "python",
   "name": "python3"
  },
  "language_info": {
   "codemirror_mode": {
    "name": "ipython",
    "version": 3
   },
   "file_extension": ".py",
   "mimetype": "text/x-python",
   "name": "python",
   "nbconvert_exporter": "python",
   "pygments_lexer": "ipython3",
   "version": "3.10.12"
  }
 },
 "nbformat": 4,
 "nbformat_minor": 5
}
