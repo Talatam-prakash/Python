{
 "cells": [
  {
   "cell_type": "markdown",
   "id": "75204fda",
   "metadata": {},
   "source": [
    "## DICTIONARIES"
   ]
  },
  {
   "cell_type": "code",
   "execution_count": 4,
   "id": "2dddb63c",
   "metadata": {},
   "outputs": [
    {
     "data": {
      "text/plain": [
       "{}"
      ]
     },
     "execution_count": 4,
     "metadata": {},
     "output_type": "execute_result"
    }
   ],
   "source": [
    "mydict=dict()\n",
    "mydict"
   ]
  },
  {
   "cell_type": "code",
   "execution_count": 5,
   "id": "8a72af4f",
   "metadata": {},
   "outputs": [
    {
     "data": {
      "text/plain": [
       "{1: 'one', 2: 'two', 3: 'three'}"
      ]
     },
     "execution_count": 5,
     "metadata": {},
     "output_type": "execute_result"
    }
   ],
   "source": [
    "mydict={1:'one',2:'two',3:'three'}\n",
    "mydict"
   ]
  },
  {
   "cell_type": "code",
   "execution_count": 6,
   "id": "87934ed8",
   "metadata": {},
   "outputs": [
    {
     "data": {
      "text/plain": [
       "{4: 'four', 5: 'five', 6: 'six'}"
      ]
     },
     "execution_count": 6,
     "metadata": {},
     "output_type": "execute_result"
    }
   ],
   "source": [
    "dict1=dict({4:'four',5:'five',6:'six'})\n",
    "dict1"
   ]
  },
  {
   "cell_type": "code",
   "execution_count": 8,
   "id": "2f8df067",
   "metadata": {},
   "outputs": [
    {
     "data": {
      "text/plain": [
       "dict_keys([1, 2, 3])"
      ]
     },
     "execution_count": 8,
     "metadata": {},
     "output_type": "execute_result"
    }
   ],
   "source": [
    "mydict.keys()\n"
   ]
  },
  {
   "cell_type": "code",
   "execution_count": 9,
   "id": "adcd7802",
   "metadata": {},
   "outputs": [
    {
     "data": {
      "text/plain": [
       "dict_values(['one', 'two', 'three'])"
      ]
     },
     "execution_count": 9,
     "metadata": {},
     "output_type": "execute_result"
    }
   ],
   "source": [
    "mydict.values()"
   ]
  },
  {
   "cell_type": "code",
   "execution_count": 10,
   "id": "2480b664",
   "metadata": {},
   "outputs": [
    {
     "data": {
      "text/plain": [
       "dict_items([(1, 'one'), (2, 'two'), (3, 'three')])"
      ]
     },
     "execution_count": 10,
     "metadata": {},
     "output_type": "execute_result"
    }
   ],
   "source": [
    "mydict.items()"
   ]
  },
  {
   "cell_type": "code",
   "execution_count": 11,
   "id": "a82e10a4",
   "metadata": {},
   "outputs": [
    {
     "data": {
      "text/plain": [
       "{'id': 's190', 'name': ['prakash', 'naidu'], 'class': '2e'}"
      ]
     },
     "execution_count": 11,
     "metadata": {},
     "output_type": "execute_result"
    }
   ],
   "source": [
    "dict2={'id':'s190','name':['prakash','naidu'],'class':'2e'}\n",
    "dict2"
   ]
  },
  {
   "cell_type": "code",
   "execution_count": 14,
   "id": "67ca1668",
   "metadata": {},
   "outputs": [
    {
     "data": {
      "text/plain": [
       "{'b': [10, 20, 30], 'a': [10, 20, 30], 'c': [10, 20, 30], 'd': [10, 20, 30]}"
      ]
     },
     "execution_count": 14,
     "metadata": {},
     "output_type": "execute_result"
    }
   ],
   "source": [
    "keys={'a','b','c','d'}\n",
    "values=[10,20,30]\n",
    "dict3=dict.fromkeys(keys,values)\n",
    "dict3\n"
   ]
  },
  {
   "cell_type": "code",
   "execution_count": 17,
   "id": "492c91d0",
   "metadata": {},
   "outputs": [
    {
     "data": {
      "text/plain": [
       "{'b': [10, 20, 30, 'e'],\n",
       " 'a': [10, 20, 30, 'e'],\n",
       " 'c': [10, 20, 30, 'e'],\n",
       " 'd': [10, 20, 30, 'e']}"
      ]
     },
     "execution_count": 17,
     "metadata": {},
     "output_type": "execute_result"
    }
   ],
   "source": [
    "values.append('e')\n",
    "dict3"
   ]
  },
  {
   "cell_type": "code",
   "execution_count": 20,
   "id": "03aac648",
   "metadata": {},
   "outputs": [
    {
     "data": {
      "text/plain": [
       "{'id': 's190', 'name': ['prakash', 'naidu'], 'class': '2e'}"
      ]
     },
     "execution_count": 20,
     "metadata": {},
     "output_type": "execute_result"
    }
   ],
   "source": [
    "dict2"
   ]
  },
  {
   "cell_type": "code",
   "execution_count": 21,
   "id": "224bb105",
   "metadata": {},
   "outputs": [
    {
     "data": {
      "text/plain": [
       "'s190'"
      ]
     },
     "execution_count": 21,
     "metadata": {},
     "output_type": "execute_result"
    }
   ],
   "source": [
    "dict2['id']"
   ]
  },
  {
   "cell_type": "code",
   "execution_count": 23,
   "id": "09b29db3",
   "metadata": {},
   "outputs": [
    {
     "data": {
      "text/plain": [
       "'prakash'"
      ]
     },
     "execution_count": 23,
     "metadata": {},
     "output_type": "execute_result"
    }
   ],
   "source": [
    "dict2['name'][0]"
   ]
  },
  {
   "cell_type": "code",
   "execution_count": 24,
   "id": "cfd63d90",
   "metadata": {},
   "outputs": [
    {
     "data": {
      "text/plain": [
       "'nai'"
      ]
     },
     "execution_count": 24,
     "metadata": {},
     "output_type": "execute_result"
    }
   ],
   "source": [
    "dict2['name'][1][0:3]"
   ]
  },
  {
   "cell_type": "code",
   "execution_count": 26,
   "id": "39bfe7b6",
   "metadata": {},
   "outputs": [],
   "source": [
    "mydic={'name':'ash','position':[10,20,30],'place':{'state':'ap','pint':533469 }}"
   ]
  },
  {
   "cell_type": "code",
   "execution_count": 27,
   "id": "b6d0d7be",
   "metadata": {},
   "outputs": [
    {
     "data": {
      "text/plain": [
       "10"
      ]
     },
     "execution_count": 27,
     "metadata": {},
     "output_type": "execute_result"
    }
   ],
   "source": [
    "mydic['position'][0]"
   ]
  },
  {
   "cell_type": "code",
   "execution_count": 28,
   "id": "15d58ea2",
   "metadata": {},
   "outputs": [
    {
     "data": {
      "text/plain": [
       "'ap'"
      ]
     },
     "execution_count": 28,
     "metadata": {},
     "output_type": "execute_result"
    }
   ],
   "source": [
    "mydic['place']['state']"
   ]
  },
  {
   "cell_type": "code",
   "execution_count": 30,
   "id": "6089f114",
   "metadata": {},
   "outputs": [
    {
     "data": {
      "text/plain": [
       "'p'"
      ]
     },
     "execution_count": 30,
     "metadata": {},
     "output_type": "execute_result"
    }
   ],
   "source": [
    "mydic['place']['state'][1]"
   ]
  },
  {
   "cell_type": "code",
   "execution_count": 32,
   "id": "93973900",
   "metadata": {},
   "outputs": [],
   "source": [
    "del mydic['place']['state']"
   ]
  },
  {
   "cell_type": "code",
   "execution_count": 33,
   "id": "f5302bdd",
   "metadata": {},
   "outputs": [
    {
     "data": {
      "text/plain": [
       "{'name': 'ash', 'position': [10, 20, 30], 'place': {'pint': 533469}}"
      ]
     },
     "execution_count": 33,
     "metadata": {},
     "output_type": "execute_result"
    }
   ],
   "source": [
    "mydic"
   ]
  },
  {
   "cell_type": "code",
   "execution_count": 35,
   "id": "a91acca3",
   "metadata": {},
   "outputs": [
    {
     "data": {
      "text/plain": [
       "{'name': 'ash',\n",
       " 'position': [10, 20, 30],\n",
       " 'place': {'pint': 533469},\n",
       " 'dob': 2003}"
      ]
     },
     "execution_count": 35,
     "metadata": {},
     "output_type": "execute_result"
    }
   ],
   "source": [
    "mydic['dob']=2003\n",
    "mydic"
   ]
  },
  {
   "cell_type": "code",
   "execution_count": 36,
   "id": "8f653db3",
   "metadata": {},
   "outputs": [
    {
     "data": {
      "text/plain": [
       "{'name': 'ash',\n",
       " 'position': [10, 20, 30],\n",
       " 'place': {'pint': 533469},\n",
       " 'dob': 2003,\n",
       " 'id': 's190'}"
      ]
     },
     "execution_count": 36,
     "metadata": {},
     "output_type": "execute_result"
    }
   ],
   "source": [
    "mdict={'id':'s190'}\n",
    "mydic.update(mdict)\n",
    "mydic"
   ]
  },
  {
   "cell_type": "code",
   "execution_count": 40,
   "id": "35c8a01e",
   "metadata": {},
   "outputs": [
    {
     "data": {
      "text/plain": [
       "'s190'"
      ]
     },
     "execution_count": 40,
     "metadata": {},
     "output_type": "execute_result"
    }
   ],
   "source": [
    "mydic.pop('id')"
   ]
  },
  {
   "cell_type": "code",
   "execution_count": 41,
   "id": "b33a3aad",
   "metadata": {},
   "outputs": [
    {
     "data": {
      "text/plain": [
       "{'name': 'ash',\n",
       " 'position': [10, 20, 30],\n",
       " 'place': {'pint': 533469},\n",
       " 'dob': 2003}"
      ]
     },
     "execution_count": 41,
     "metadata": {},
     "output_type": "execute_result"
    }
   ],
   "source": [
    "mydic"
   ]
  },
  {
   "cell_type": "code",
   "execution_count": 42,
   "id": "4b8f3e96",
   "metadata": {},
   "outputs": [
    {
     "data": {
      "text/plain": [
       "('dob', 2003)"
      ]
     },
     "execution_count": 42,
     "metadata": {},
     "output_type": "execute_result"
    }
   ],
   "source": [
    "mydic.popitem()"
   ]
  },
  {
   "cell_type": "code",
   "execution_count": 43,
   "id": "6150a5c3",
   "metadata": {},
   "outputs": [],
   "source": [
    "mydic.clear()"
   ]
  },
  {
   "cell_type": "code",
   "execution_count": 44,
   "id": "ab0ad3d9",
   "metadata": {},
   "outputs": [
    {
     "data": {
      "text/plain": [
       "{}"
      ]
     },
     "execution_count": 44,
     "metadata": {},
     "output_type": "execute_result"
    }
   ],
   "source": [
    "mydic"
   ]
  },
  {
   "cell_type": "code",
   "execution_count": 1,
   "id": "030e7590",
   "metadata": {},
   "outputs": [],
   "source": [
    "mydic={'name':'ash','position':[10,20,30],'place':{'state':'ap','pint':533469 }}"
   ]
  },
  {
   "cell_type": "code",
   "execution_count": 5,
   "id": "0e743026",
   "metadata": {},
   "outputs": [
    {
     "data": {
      "text/plain": [
       "{'name': 'ash',\n",
       " 'position': [10, 20, 30],\n",
       " 'place': {'state': 'ap', 'pint': 533469, 'country': 'india'}}"
      ]
     },
     "execution_count": 5,
     "metadata": {},
     "output_type": "execute_result"
    }
   ],
   "source": [
    "mydic['place']['country']='india'\n",
    "mydic"
   ]
  },
  {
   "cell_type": "code",
   "execution_count": 4,
   "id": "0e203b61",
   "metadata": {},
   "outputs": [
    {
     "name": "stdout",
     "output_type": "stream",
     "text": [
      "name\n",
      "position\n",
      "place\n"
     ]
    }
   ],
   "source": [
    "for i in mydic:\n",
    "    print(i)"
   ]
  },
  {
   "cell_type": "code",
   "execution_count": 53,
   "id": "75ca1559",
   "metadata": {},
   "outputs": [
    {
     "name": "stdout",
     "output_type": "stream",
     "text": [
      "ash\n",
      "[10, 20, 30]\n",
      "{'state': 'ap', 'pint': 533469}\n"
     ]
    }
   ],
   "source": [
    "for i in mydic:\n",
    "    print(mydic[i])"
   ]
  },
  {
   "cell_type": "code",
   "execution_count": 51,
   "id": "fc45b850",
   "metadata": {},
   "outputs": [
    {
     "name": "stdout",
     "output_type": "stream",
     "text": [
      "name : ash\n",
      "position : [10, 20, 30]\n",
      "place : {'state': 'ap', 'pint': 533469}\n"
     ]
    }
   ],
   "source": [
    "for i in mydic:\n",
    "    print(i,':',mydic[i])"
   ]
  },
  {
   "cell_type": "code",
   "execution_count": 54,
   "id": "362e7d00",
   "metadata": {},
   "outputs": [
    {
     "data": {
      "text/plain": [
       "True"
      ]
     },
     "execution_count": 54,
     "metadata": {},
     "output_type": "execute_result"
    }
   ],
   "source": [
    "'name' in mydic"
   ]
  },
  {
   "cell_type": "code",
   "execution_count": 55,
   "id": "17fb3c0c",
   "metadata": {},
   "outputs": [
    {
     "data": {
      "text/plain": [
       "False"
      ]
     },
     "execution_count": 55,
     "metadata": {},
     "output_type": "execute_result"
    }
   ],
   "source": [
    "'id' in mydic"
   ]
  },
  {
   "cell_type": "code",
   "execution_count": 56,
   "id": "bb304612",
   "metadata": {},
   "outputs": [
    {
     "data": {
      "text/plain": [
       "False"
      ]
     },
     "execution_count": 56,
     "metadata": {},
     "output_type": "execute_result"
    }
   ],
   "source": [
    "'state' in mydic"
   ]
  },
  {
   "cell_type": "code",
   "execution_count": 59,
   "id": "9aeff5d4",
   "metadata": {},
   "outputs": [
    {
     "data": {
      "text/plain": [
       "True"
      ]
     },
     "execution_count": 59,
     "metadata": {},
     "output_type": "execute_result"
    }
   ],
   "source": [
    "all(mydic) #when all elements are true then it return true "
   ]
  },
  {
   "cell_type": "code",
   "execution_count": 60,
   "id": "bdf17599",
   "metadata": {},
   "outputs": [
    {
     "data": {
      "text/plain": [
       "True"
      ]
     },
     "execution_count": 60,
     "metadata": {},
     "output_type": "execute_result"
    }
   ],
   "source": [
    "any(mydic) #chech only true elements have or not"
   ]
  },
  {
   "cell_type": "code",
   "execution_count": 64,
   "id": "7529f7ef",
   "metadata": {},
   "outputs": [
    {
     "data": {
      "text/plain": [
       "{'name': 'ash',\n",
       " 'position': [10, 20, 30],\n",
       " 'place': {'state': 'ap', 'pint': 533469},\n",
       " 'experience': 0,\n",
       " 0: 'exper'}"
      ]
     },
     "execution_count": 64,
     "metadata": {},
     "output_type": "execute_result"
    }
   ],
   "source": [
    "mydic[0]='exper'\n",
    "mydic"
   ]
  },
  {
   "cell_type": "code",
   "execution_count": 65,
   "id": "3d76d445",
   "metadata": {},
   "outputs": [
    {
     "data": {
      "text/plain": [
       "False"
      ]
     },
     "execution_count": 65,
     "metadata": {},
     "output_type": "execute_result"
    }
   ],
   "source": [
    "all(mydic)"
   ]
  },
  {
   "cell_type": "code",
   "execution_count": 66,
   "id": "d674b3c9",
   "metadata": {},
   "outputs": [
    {
     "data": {
      "text/plain": [
       "True"
      ]
     },
     "execution_count": 66,
     "metadata": {},
     "output_type": "execute_result"
    }
   ],
   "source": [
    "any(mydic)"
   ]
  },
  {
   "cell_type": "code",
   "execution_count": 67,
   "id": "f24d01e8",
   "metadata": {},
   "outputs": [
    {
     "data": {
      "text/plain": [
       "{1: 3, 2: 6, 3: 9, 4: 12, 5: 15, 6: 18, 7: 21, 8: 24, 9: 27}"
      ]
     },
     "execution_count": 67,
     "metadata": {},
     "output_type": "execute_result"
    }
   ],
   "source": [
    "mydict1={i : i*3 for i in range(1,10)}\n",
    "mydict1"
   ]
  },
  {
   "cell_type": "code",
   "execution_count": 69,
   "id": "bce71517",
   "metadata": {},
   "outputs": [
    {
     "data": {
      "text/plain": [
       "{'a': 'A',\n",
       " 'b': 'B',\n",
       " 'c': 'C',\n",
       " 'd': 'D',\n",
       " 'e': 'E',\n",
       " 'f': 'F',\n",
       " 'g': 'G',\n",
       " 'h': 'H',\n",
       " 'i': 'I',\n",
       " 'j': 'J',\n",
       " 'k': 'K',\n",
       " 'l': 'L',\n",
       " 'm': 'M'}"
      ]
     },
     "execution_count": 69,
     "metadata": {},
     "output_type": "execute_result"
    }
   ],
   "source": [
    "strr='abcdefghijklm'\n",
    "mydict2={i : i.upper() for i in strr}\n",
    "mydict2"
   ]
  },
  {
   "cell_type": "markdown",
   "id": "2f37f898",
   "metadata": {},
   "source": [
    "## Lists"
   ]
  },
  {
   "cell_type": "code",
   "execution_count": 71,
   "id": "662a1c3c",
   "metadata": {},
   "outputs": [
    {
     "name": "stdout",
     "output_type": "stream",
     "text": [
      "<class 'list'>\n"
     ]
    }
   ],
   "source": [
    "li=[]\n",
    "li\n",
    "print(type(li))"
   ]
  },
  {
   "cell_type": "code",
   "execution_count": 72,
   "id": "56f688fa",
   "metadata": {},
   "outputs": [
    {
     "data": {
      "text/plain": [
       "[10, 20, 30, 40, 50]"
      ]
     },
     "execution_count": 72,
     "metadata": {},
     "output_type": "execute_result"
    }
   ],
   "source": [
    "li=[10,20,30,40,50]\n",
    "li"
   ]
  },
  {
   "cell_type": "code",
   "execution_count": 75,
   "id": "2fd5d9c9",
   "metadata": {},
   "outputs": [
    {
     "data": {
      "text/plain": [
       "[1, [100, 200], {'name', 'prakash'}, 'lists']"
      ]
     },
     "execution_count": 75,
     "metadata": {},
     "output_type": "execute_result"
    }
   ],
   "source": [
    "li2=[1,[100,200],{'name','prakash'},'lists']\n",
    "li2"
   ]
  },
  {
   "cell_type": "code",
   "execution_count": 76,
   "id": "69d3436e",
   "metadata": {},
   "outputs": [
    {
     "data": {
      "text/plain": [
       "4"
      ]
     },
     "execution_count": 76,
     "metadata": {},
     "output_type": "execute_result"
    }
   ],
   "source": [
    "len(li2)"
   ]
  },
  {
   "cell_type": "code",
   "execution_count": 77,
   "id": "f067c6b1",
   "metadata": {},
   "outputs": [
    {
     "data": {
      "text/plain": [
       "5"
      ]
     },
     "execution_count": 77,
     "metadata": {},
     "output_type": "execute_result"
    }
   ],
   "source": [
    "len(li)"
   ]
  },
  {
   "cell_type": "code",
   "execution_count": 78,
   "id": "082c99cf",
   "metadata": {},
   "outputs": [
    {
     "data": {
      "text/plain": [
       "[100, 200]"
      ]
     },
     "execution_count": 78,
     "metadata": {},
     "output_type": "execute_result"
    }
   ],
   "source": [
    "li2[1]"
   ]
  },
  {
   "cell_type": "code",
   "execution_count": 80,
   "id": "cc754fe5",
   "metadata": {},
   "outputs": [
    {
     "data": {
      "text/plain": [
       "200"
      ]
     },
     "execution_count": 80,
     "metadata": {},
     "output_type": "execute_result"
    }
   ],
   "source": [
    "li2[1][1]"
   ]
  },
  {
   "cell_type": "code",
   "execution_count": 85,
   "id": "362d525c",
   "metadata": {},
   "outputs": [
    {
     "data": {
      "text/plain": [
       "{'name', 'prakash'}"
      ]
     },
     "execution_count": 85,
     "metadata": {},
     "output_type": "execute_result"
    }
   ],
   "source": [
    "li2[2]"
   ]
  },
  {
   "cell_type": "code",
   "execution_count": 86,
   "id": "5f6a36db",
   "metadata": {},
   "outputs": [
    {
     "data": {
      "text/plain": [
       "[1, [100, 200], {'name', 'prakash'}]"
      ]
     },
     "execution_count": 86,
     "metadata": {},
     "output_type": "execute_result"
    }
   ],
   "source": [
    "li2[0:3]"
   ]
  },
  {
   "cell_type": "code",
   "execution_count": 87,
   "id": "c7170fbc",
   "metadata": {},
   "outputs": [
    {
     "data": {
      "text/plain": [
       "[{'name', 'prakash'}, 'lists']"
      ]
     },
     "execution_count": 87,
     "metadata": {},
     "output_type": "execute_result"
    }
   ],
   "source": [
    "li2[2:]"
   ]
  },
  {
   "cell_type": "code",
   "execution_count": 88,
   "id": "92533a79",
   "metadata": {},
   "outputs": [
    {
     "data": {
      "text/plain": [
       "[1, [100, 200], {'name', 'prakash'}]"
      ]
     },
     "execution_count": 88,
     "metadata": {},
     "output_type": "execute_result"
    }
   ],
   "source": [
    "li2[:3]"
   ]
  },
  {
   "cell_type": "code",
   "execution_count": 89,
   "id": "265f2d85",
   "metadata": {},
   "outputs": [
    {
     "data": {
      "text/plain": [
       "[1, [100, 200], {'name', 'prakash'}, 'lists']"
      ]
     },
     "execution_count": 89,
     "metadata": {},
     "output_type": "execute_result"
    }
   ],
   "source": [
    "li2[:]"
   ]
  },
  {
   "cell_type": "code",
   "execution_count": 90,
   "id": "aecce366",
   "metadata": {},
   "outputs": [
    {
     "data": {
      "text/plain": [
       "{'name', 'prakash'}"
      ]
     },
     "execution_count": 90,
     "metadata": {},
     "output_type": "execute_result"
    }
   ],
   "source": [
    "li2[-2]"
   ]
  },
  {
   "cell_type": "code",
   "execution_count": 91,
   "id": "71c24912",
   "metadata": {},
   "outputs": [],
   "source": [
    "li2.append('id')"
   ]
  },
  {
   "cell_type": "code",
   "execution_count": 92,
   "id": "cc40e8a7",
   "metadata": {},
   "outputs": [
    {
     "data": {
      "text/plain": [
       "[1, [100, 200], {'name', 'prakash'}, 'lists', 'id']"
      ]
     },
     "execution_count": 92,
     "metadata": {},
     "output_type": "execute_result"
    }
   ],
   "source": [
    "li23"
   ]
  },
  {
   "cell_type": "code",
   "execution_count": 93,
   "id": "a057d6a5",
   "metadata": {},
   "outputs": [],
   "source": [
    "li2.insert(8,'eight')"
   ]
  },
  {
   "cell_type": "code",
   "execution_count": 94,
   "id": "f384f1eb",
   "metadata": {},
   "outputs": [
    {
     "data": {
      "text/plain": [
       "[1, [100, 200], {'name', 'prakash'}, 'lists', 'id', 'eight']"
      ]
     },
     "execution_count": 94,
     "metadata": {},
     "output_type": "execute_result"
    }
   ],
   "source": [
    "li2"
   ]
  },
  {
   "cell_type": "code",
   "execution_count": 95,
   "id": "35b158d6",
   "metadata": {},
   "outputs": [],
   "source": [
    "li2.insert(0,'zero')"
   ]
  },
  {
   "cell_type": "code",
   "execution_count": 96,
   "id": "82445556",
   "metadata": {},
   "outputs": [
    {
     "data": {
      "text/plain": [
       "['zero', 1, [100, 200], {'name', 'prakash'}, 'lists', 'id', 'eight']"
      ]
     },
     "execution_count": 96,
     "metadata": {},
     "output_type": "execute_result"
    }
   ],
   "source": [
    "li2"
   ]
  },
  {
   "cell_type": "code",
   "execution_count": 97,
   "id": "95ed714b",
   "metadata": {},
   "outputs": [
    {
     "data": {
      "text/plain": [
       "'eight'"
      ]
     },
     "execution_count": 97,
     "metadata": {},
     "output_type": "execute_result"
    }
   ],
   "source": [
    "li2.pop()"
   ]
  },
  {
   "cell_type": "code",
   "execution_count": 98,
   "id": "855281e3",
   "metadata": {},
   "outputs": [
    {
     "data": {
      "text/plain": [
       "1"
      ]
     },
     "execution_count": 98,
     "metadata": {},
     "output_type": "execute_result"
    }
   ],
   "source": [
    "li2.pop(1)"
   ]
  },
  {
   "cell_type": "code",
   "execution_count": 99,
   "id": "ca6c269c",
   "metadata": {},
   "outputs": [],
   "source": [
    "del li2[1][1]"
   ]
  },
  {
   "cell_type": "code",
   "execution_count": 101,
   "id": "0c884349",
   "metadata": {},
   "outputs": [
    {
     "data": {
      "text/plain": [
       "['zero', [100], {'name', 'prakash'}, 'lists', 'id']"
      ]
     },
     "execution_count": 101,
     "metadata": {},
     "output_type": "execute_result"
    }
   ],
   "source": [
    "li2"
   ]
  },
  {
   "cell_type": "code",
   "execution_count": 102,
   "id": "76427fe1",
   "metadata": {},
   "outputs": [
    {
     "data": {
      "text/plain": [
       "[10, 20, 30, 40, 50, 'zero', [100], {'name', 'prakash'}, 'lists', 'id']"
      ]
     },
     "execution_count": 102,
     "metadata": {},
     "output_type": "execute_result"
    }
   ],
   "source": [
    "li3=li+li2\n",
    "li3"
   ]
  },
  {
   "cell_type": "code",
   "execution_count": 103,
   "id": "0275fd9f",
   "metadata": {},
   "outputs": [
    {
     "data": {
      "text/plain": [
       "True"
      ]
     },
     "execution_count": 103,
     "metadata": {},
     "output_type": "execute_result"
    }
   ],
   "source": [
    "10 in li3"
   ]
  },
  {
   "cell_type": "code",
   "execution_count": 104,
   "id": "a4b90b4a",
   "metadata": {},
   "outputs": [
    {
     "data": {
      "text/plain": [
       "False"
      ]
     },
     "execution_count": 104,
     "metadata": {},
     "output_type": "execute_result"
    }
   ],
   "source": [
    "100 in li3"
   ]
  },
  {
   "cell_type": "code",
   "execution_count": 105,
   "id": "2f833bc6",
   "metadata": {},
   "outputs": [
    {
     "data": {
      "text/plain": [
       "False"
      ]
     },
     "execution_count": 105,
     "metadata": {},
     "output_type": "execute_result"
    }
   ],
   "source": [
    "'name' in li3"
   ]
  },
  {
   "cell_type": "code",
   "execution_count": 106,
   "id": "fad9ca47",
   "metadata": {},
   "outputs": [],
   "source": [
    "li3.reverse()"
   ]
  },
  {
   "cell_type": "code",
   "execution_count": 107,
   "id": "4708771a",
   "metadata": {},
   "outputs": [
    {
     "data": {
      "text/plain": [
       "['id', 'lists', {'name', 'prakash'}, [100], 'zero', 50, 40, 30, 20, 10]"
      ]
     },
     "execution_count": 107,
     "metadata": {},
     "output_type": "execute_result"
    }
   ],
   "source": [
    "li3"
   ]
  },
  {
   "cell_type": "code",
   "execution_count": 113,
   "id": "476701c2",
   "metadata": {},
   "outputs": [
    {
     "data": {
      "text/plain": [
       "[50, 40, 30, 20, 10]"
      ]
     },
     "execution_count": 113,
     "metadata": {},
     "output_type": "execute_result"
    }
   ],
   "source": [
    "li.sort(reverse=True)\n",
    "li"
   ]
  },
  {
   "cell_type": "code",
   "execution_count": 115,
   "id": "382029f3",
   "metadata": {},
   "outputs": [
    {
     "data": {
      "text/plain": [
       "[50, 40, 30, 20, 10]"
      ]
     },
     "execution_count": 115,
     "metadata": {},
     "output_type": "execute_result"
    }
   ],
   "source": [
    "li"
   ]
  },
  {
   "cell_type": "code",
   "execution_count": 114,
   "id": "f1f438a3",
   "metadata": {},
   "outputs": [
    {
     "data": {
      "text/plain": [
       "[10, 20, 30, 40, 50]"
      ]
     },
     "execution_count": 114,
     "metadata": {},
     "output_type": "execute_result"
    }
   ],
   "source": [
    "sorted(li)"
   ]
  },
  {
   "cell_type": "code",
   "execution_count": 116,
   "id": "3c921f73",
   "metadata": {},
   "outputs": [],
   "source": [
    "li.append(0)"
   ]
  },
  {
   "cell_type": "code",
   "execution_count": 117,
   "id": "9a454f3e",
   "metadata": {},
   "outputs": [
    {
     "data": {
      "text/plain": [
       "[50, 40, 30, 20, 10, 0]"
      ]
     },
     "execution_count": 117,
     "metadata": {},
     "output_type": "execute_result"
    }
   ],
   "source": [
    "li\n"
   ]
  },
  {
   "cell_type": "code",
   "execution_count": 118,
   "id": "821553f6",
   "metadata": {},
   "outputs": [
    {
     "data": {
      "text/plain": [
       "False"
      ]
     },
     "execution_count": 118,
     "metadata": {},
     "output_type": "execute_result"
    }
   ],
   "source": [
    "all(li)"
   ]
  },
  {
   "cell_type": "code",
   "execution_count": 119,
   "id": "92aea677",
   "metadata": {},
   "outputs": [
    {
     "data": {
      "text/plain": [
       "True"
      ]
     },
     "execution_count": 119,
     "metadata": {},
     "output_type": "execute_result"
    }
   ],
   "source": [
    "any(li)"
   ]
  },
  {
   "cell_type": "code",
   "execution_count": 120,
   "id": "911f2f00",
   "metadata": {},
   "outputs": [],
   "source": [
    "mystr=\"hello world\"\n",
    "lis=[i for i in mystr]\n"
   ]
  },
  {
   "cell_type": "code",
   "execution_count": 121,
   "id": "d169a9c6",
   "metadata": {},
   "outputs": [
    {
     "data": {
      "text/plain": [
       "['h', 'e', 'l', 'l', 'o', ' ', 'w', 'o', 'r', 'l', 'd']"
      ]
     },
     "execution_count": 121,
     "metadata": {},
     "output_type": "execute_result"
    }
   ],
   "source": [
    "lis"
   ]
  },
  {
   "cell_type": "code",
   "execution_count": 122,
   "id": "99acacca",
   "metadata": {},
   "outputs": [],
   "source": [
    "lis1=[i for i in range(10) if i%2==1]"
   ]
  },
  {
   "cell_type": "code",
   "execution_count": 123,
   "id": "4fbf5dcd",
   "metadata": {},
   "outputs": [
    {
     "data": {
      "text/plain": [
       "[1, 3, 5, 7, 9]"
      ]
     },
     "execution_count": 123,
     "metadata": {},
     "output_type": "execute_result"
    }
   ],
   "source": [
    "lis1"
   ]
  },
  {
   "cell_type": "markdown",
   "id": "b58d5e9d",
   "metadata": {},
   "source": [
    "## Tuples"
   ]
  },
  {
   "cell_type": "code",
   "execution_count": 124,
   "id": "b8596b65",
   "metadata": {},
   "outputs": [
    {
     "data": {
      "text/plain": [
       "()"
      ]
     },
     "execution_count": 124,
     "metadata": {},
     "output_type": "execute_result"
    }
   ],
   "source": [
    "tup=()\n",
    "tup"
   ]
  },
  {
   "cell_type": "code",
   "execution_count": 125,
   "id": "a2a87803",
   "metadata": {},
   "outputs": [
    {
     "data": {
      "text/plain": [
       "(1, 2, 3, 4, 5)"
      ]
     },
     "execution_count": 125,
     "metadata": {},
     "output_type": "execute_result"
    }
   ],
   "source": [
    "tup=(1,2,3,4,5)\n",
    "tup"
   ]
  },
  {
   "cell_type": "code",
   "execution_count": 126,
   "id": "82af0f31",
   "metadata": {},
   "outputs": [
    {
     "data": {
      "text/plain": [
       "('one', 'two', 'three')"
      ]
     },
     "execution_count": 126,
     "metadata": {},
     "output_type": "execute_result"
    }
   ],
   "source": [
    "tup1=('one','two','three')\n",
    "tup1"
   ]
  },
  {
   "cell_type": "code",
   "execution_count": 1,
   "id": "fa947a7e",
   "metadata": {},
   "outputs": [
    {
     "data": {
      "text/plain": [
       "(25, [33, 12], {'class', 'name'})"
      ]
     },
     "execution_count": 1,
     "metadata": {},
     "output_type": "execute_result"
    }
   ],
   "source": [
    "tup2=(25,[33,12],{'name','class'})\n",
    "tup2"
   ]
  },
  {
   "cell_type": "code",
   "execution_count": 2,
   "id": "758729d2",
   "metadata": {},
   "outputs": [
    {
     "data": {
      "text/plain": [
       "3"
      ]
     },
     "execution_count": 2,
     "metadata": {},
     "output_type": "execute_result"
    }
   ],
   "source": [
    "len(tup2)"
   ]
  },
  {
   "cell_type": "code",
   "execution_count": 3,
   "id": "e50eeb75",
   "metadata": {},
   "outputs": [
    {
     "data": {
      "text/plain": [
       "12"
      ]
     },
     "execution_count": 3,
     "metadata": {},
     "output_type": "execute_result"
    }
   ],
   "source": [
    "tup2[1][1]"
   ]
  },
  {
   "cell_type": "code",
   "execution_count": 5,
   "id": "3483bc6b",
   "metadata": {},
   "outputs": [
    {
     "data": {
      "text/plain": [
       "{'class', 'name'}"
      ]
     },
     "execution_count": 5,
     "metadata": {},
     "output_type": "execute_result"
    }
   ],
   "source": [
    "tup2[2]"
   ]
  },
  {
   "cell_type": "code",
   "execution_count": 133,
   "id": "43c142ab",
   "metadata": {},
   "outputs": [
    {
     "data": {
      "text/plain": [
       "(25, [33, 12])"
      ]
     },
     "execution_count": 133,
     "metadata": {},
     "output_type": "execute_result"
    }
   ],
   "source": [
    "tup2[0:2]"
   ]
  },
  {
   "cell_type": "code",
   "execution_count": 134,
   "id": "d496888a",
   "metadata": {},
   "outputs": [
    {
     "ename": "TypeError",
     "evalue": "'tuple' object doesn't support item deletion",
     "output_type": "error",
     "traceback": [
      "\u001b[0;31m---------------------------------------------------------------------------\u001b[0m",
      "\u001b[0;31mTypeError\u001b[0m                                 Traceback (most recent call last)",
      "Input \u001b[0;32mIn [134]\u001b[0m, in \u001b[0;36m<cell line: 1>\u001b[0;34m()\u001b[0m\n\u001b[0;32m----> 1\u001b[0m \u001b[38;5;28;01mdel\u001b[39;00m tup2[\u001b[38;5;241m0\u001b[39m]\n",
      "\u001b[0;31mTypeError\u001b[0m: 'tuple' object doesn't support item deletion"
     ]
    }
   ],
   "source": [
    "del tup2[0]"
   ]
  },
  {
   "cell_type": "code",
   "execution_count": 135,
   "id": "915ac1e0",
   "metadata": {},
   "outputs": [],
   "source": [
    "del tup2"
   ]
  },
  {
   "cell_type": "code",
   "execution_count": 137,
   "id": "80e06eef",
   "metadata": {},
   "outputs": [
    {
     "name": "stdout",
     "output_type": "stream",
     "text": [
      "1\n",
      "2\n",
      "3\n",
      "4\n",
      "5\n"
     ]
    }
   ],
   "source": [
    "for i in tup:\n",
    "    print(i)"
   ]
  },
  {
   "cell_type": "code",
   "execution_count": 138,
   "id": "d0900e5c",
   "metadata": {},
   "outputs": [
    {
     "name": "stdout",
     "output_type": "stream",
     "text": [
      "(0, 'one')\n",
      "(1, 'two')\n",
      "(2, 'three')\n"
     ]
    }
   ],
   "source": [
    "for i in enumerate(tup1):\n",
    "    print(i)"
   ]
  },
  {
   "cell_type": "code",
   "execution_count": 7,
   "id": "37fdff76",
   "metadata": {},
   "outputs": [],
   "source": [
    "tup2=(23,32,54,23,65,75,12)"
   ]
  },
  {
   "cell_type": "code",
   "execution_count": 8,
   "id": "974ca731",
   "metadata": {},
   "outputs": [
    {
     "data": {
      "text/plain": [
       "2"
      ]
     },
     "execution_count": 8,
     "metadata": {},
     "output_type": "execute_result"
    }
   ],
   "source": [
    "tup2.count(23)"
   ]
  },
  {
   "cell_type": "code",
   "execution_count": 9,
   "id": "85a64dbe",
   "metadata": {},
   "outputs": [
    {
     "data": {
      "text/plain": [
       "0"
      ]
     },
     "execution_count": 9,
     "metadata": {},
     "output_type": "execute_result"
    }
   ],
   "source": [
    "tup2.count(10)"
   ]
  },
  {
   "cell_type": "code",
   "execution_count": 10,
   "id": "4f658186",
   "metadata": {},
   "outputs": [
    {
     "data": {
      "text/plain": [
       "6"
      ]
     },
     "execution_count": 10,
     "metadata": {},
     "output_type": "execute_result"
    }
   ],
   "source": [
    "tup2.index(12)"
   ]
  },
  {
   "cell_type": "code",
   "execution_count": 11,
   "id": "f3162a2a",
   "metadata": {},
   "outputs": [
    {
     "name": "stdout",
     "output_type": "stream",
     "text": [
      "[12, 23, 23, 32, 54, 65, 75]\n"
     ]
    }
   ],
   "source": [
    "print(sorted(tup2))"
   ]
  },
  {
   "cell_type": "markdown",
   "id": "24a4afda",
   "metadata": {},
   "source": [
    "## Sets"
   ]
  },
  {
   "cell_type": "code",
   "execution_count": 145,
   "id": "7f32eaec",
   "metadata": {},
   "outputs": [
    {
     "data": {
      "text/plain": [
       "{}"
      ]
     },
     "execution_count": 145,
     "metadata": {},
     "output_type": "execute_result"
    }
   ],
   "source": [
    "myset={}\n",
    "myset"
   ]
  },
  {
   "cell_type": "code",
   "execution_count": 164,
   "id": "20a8928e",
   "metadata": {},
   "outputs": [
    {
     "data": {
      "text/plain": [
       "{11, 23.4, 34, 54, 434}"
      ]
     },
     "execution_count": 164,
     "metadata": {},
     "output_type": "execute_result"
    }
   ],
   "source": [
    "myset={11,23.4,434,11,23.4,34,54}\n",
    "myset                          \n",
    "#set delete duplicate values\n"
   ]
  },
  {
   "cell_type": "code",
   "execution_count": 157,
   "id": "ec09bd97",
   "metadata": {},
   "outputs": [
    {
     "data": {
      "text/plain": [
       "5"
      ]
     },
     "execution_count": 157,
     "metadata": {},
     "output_type": "execute_result"
    }
   ],
   "source": [
    "len(myset)"
   ]
  },
  {
   "cell_type": "code",
   "execution_count": 166,
   "id": "1ee75810",
   "metadata": {},
   "outputs": [
    {
     "ename": "TypeError",
     "evalue": "'set' object does not support item assignment",
     "output_type": "error",
     "traceback": [
      "\u001b[0;31m---------------------------------------------------------------------------\u001b[0m",
      "\u001b[0;31mTypeError\u001b[0m                                 Traceback (most recent call last)",
      "Input \u001b[0;32mIn [166]\u001b[0m, in \u001b[0;36m<cell line: 1>\u001b[0;34m()\u001b[0m\n\u001b[0;32m----> 1\u001b[0m myset[\u001b[38;5;241m0\u001b[39m]\u001b[38;5;241m=\u001b[39m\u001b[38;5;241m124\u001b[39m\n",
      "\u001b[0;31mTypeError\u001b[0m: 'set' object does not support item assignment"
     ]
    }
   ],
   "source": [
    "myset[0]=124"
   ]
  },
  {
   "cell_type": "code",
   "execution_count": 167,
   "id": "1f699796",
   "metadata": {},
   "outputs": [
    {
     "data": {
      "text/plain": [
       "{11, 23.4, 34, 54, 434}"
      ]
     },
     "execution_count": 167,
     "metadata": {},
     "output_type": "execute_result"
    }
   ],
   "source": [
    "myset"
   ]
  },
  {
   "cell_type": "code",
   "execution_count": 168,
   "id": "dd5db88a",
   "metadata": {},
   "outputs": [
    {
     "data": {
      "text/plain": [
       "{'one', 'three', 'two'}"
      ]
     },
     "execution_count": 168,
     "metadata": {},
     "output_type": "execute_result"
    }
   ],
   "source": [
    "set1=set(('one','two','three'))\n",
    "set1"
   ]
  },
  {
   "cell_type": "code",
   "execution_count": 169,
   "id": "84aba184",
   "metadata": {},
   "outputs": [
    {
     "name": "stdout",
     "output_type": "stream",
     "text": [
      "one\n",
      "three\n",
      "two\n"
     ]
    }
   ],
   "source": [
    "for i in set1:\n",
    "    print(i)"
   ]
  },
  {
   "cell_type": "code",
   "execution_count": 170,
   "id": "297afb44",
   "metadata": {},
   "outputs": [
    {
     "name": "stdout",
     "output_type": "stream",
     "text": [
      "(0, 'one')\n",
      "(1, 'three')\n",
      "(2, 'two')\n"
     ]
    }
   ],
   "source": [
    "for i in enumerate(set1):\n",
    "    print(i)"
   ]
  },
  {
   "cell_type": "code",
   "execution_count": 172,
   "id": "38a49b8b",
   "metadata": {},
   "outputs": [
    {
     "data": {
      "text/plain": [
       "{1, 2, 3, 4, 6, 'six'}"
      ]
     },
     "execution_count": 172,
     "metadata": {},
     "output_type": "execute_result"
    }
   ],
   "source": [
    "set2={1,2,3,4,6,}\n",
    "set2.add('six')\n",
    "set2"
   ]
  },
  {
   "cell_type": "code",
   "execution_count": 13,
   "id": "0ebc8f37",
   "metadata": {},
   "outputs": [
    {
     "data": {
      "text/plain": [
       "{'four', 'one', 'three', 'two'}"
      ]
     },
     "execution_count": 13,
     "metadata": {},
     "output_type": "execute_result"
    }
   ],
   "source": [
    "set3={'one','two','three','four'}\n",
    "set3"
   ]
  },
  {
   "cell_type": "code",
   "execution_count": 14,
   "id": "434e8b9f",
   "metadata": {},
   "outputs": [
    {
     "data": {
      "text/plain": [
       "{'five', 'four', 'one', 'seven', 'six', 'three', 'two'}"
      ]
     },
     "execution_count": 14,
     "metadata": {},
     "output_type": "execute_result"
    }
   ],
   "source": [
    "set3.update(['five','six','seven'])\n",
    "set3"
   ]
  },
  {
   "cell_type": "code",
   "execution_count": 15,
   "id": "e8d1993b",
   "metadata": {},
   "outputs": [
    {
     "data": {
      "text/plain": [
       "{'five', 'four', 'seven', 'six', 'three', 'two'}"
      ]
     },
     "execution_count": 15,
     "metadata": {},
     "output_type": "execute_result"
    }
   ],
   "source": [
    "set3.remove('one')\n",
    "set3"
   ]
  },
  {
   "cell_type": "code",
   "execution_count": 16,
   "id": "a696d5b4",
   "metadata": {},
   "outputs": [
    {
     "name": "stdout",
     "output_type": "stream",
     "text": [
      "None\n"
     ]
    },
    {
     "data": {
      "text/plain": [
       "{'five', 'four', 'seven', 'six', 'three'}"
      ]
     },
     "execution_count": 16,
     "metadata": {},
     "output_type": "execute_result"
    }
   ],
   "source": [
    "print(set3.discard('two'))\n",
    "set3"
   ]
  },
  {
   "cell_type": "code",
   "execution_count": 17,
   "id": "75cea948",
   "metadata": {},
   "outputs": [
    {
     "data": {
      "text/plain": [
       "{'five', 'four', 'seven', 'six', 'three'}"
      ]
     },
     "execution_count": 17,
     "metadata": {},
     "output_type": "execute_result"
    }
   ],
   "source": [
    "set3.discard('nine')      #discard can't give error when element not found\n",
    "set3"
   ]
  },
  {
   "cell_type": "code",
   "execution_count": 18,
   "id": "a11801e0",
   "metadata": {},
   "outputs": [],
   "source": [
    "del set3"
   ]
  },
  {
   "cell_type": "code",
   "execution_count": 19,
   "id": "113499d8",
   "metadata": {},
   "outputs": [
    {
     "ename": "NameError",
     "evalue": "name 'set3' is not defined",
     "output_type": "error",
     "traceback": [
      "\u001b[0;31m---------------------------------------------------------------------------\u001b[0m",
      "\u001b[0;31mNameError\u001b[0m                                 Traceback (most recent call last)",
      "Input \u001b[0;32mIn [19]\u001b[0m, in \u001b[0;36m<cell line: 1>\u001b[0;34m()\u001b[0m\n\u001b[0;32m----> 1\u001b[0m \u001b[43mset3\u001b[49m\n",
      "\u001b[0;31mNameError\u001b[0m: name 'set3' is not defined"
     ]
    }
   ],
   "source": [
    "set3"
   ]
  },
  {
   "cell_type": "code",
   "execution_count": 1,
   "id": "09c763f8",
   "metadata": {},
   "outputs": [],
   "source": [
    "s1={1,2,3,4,5}\n",
    "s2={4,5,6,7,8}\n",
    "s3={7,8,9,10}\n"
   ]
  },
  {
   "cell_type": "code",
   "execution_count": 2,
   "id": "2dd26f1f",
   "metadata": {},
   "outputs": [
    {
     "data": {
      "text/plain": [
       "{1, 2, 3, 4, 5, 6, 7, 8}"
      ]
     },
     "execution_count": 2,
     "metadata": {},
     "output_type": "execute_result"
    }
   ],
   "source": [
    "s1.union(s2)"
   ]
  },
  {
   "cell_type": "code",
   "execution_count": 4,
   "id": "c3fd1c11",
   "metadata": {},
   "outputs": [
    {
     "data": {
      "text/plain": [
       "{1, 2, 3, 4, 5, 6, 7, 8}"
      ]
     },
     "execution_count": 4,
     "metadata": {},
     "output_type": "execute_result"
    }
   ],
   "source": [
    "s1 | s2"
   ]
  },
  {
   "cell_type": "code",
   "execution_count": 5,
   "id": "cd269937",
   "metadata": {},
   "outputs": [
    {
     "data": {
      "text/plain": [
       "{4, 5}"
      ]
     },
     "execution_count": 5,
     "metadata": {},
     "output_type": "execute_result"
    }
   ],
   "source": [
    "s1 & s2"
   ]
  },
  {
   "cell_type": "code",
   "execution_count": 7,
   "id": "cc9a2aed",
   "metadata": {},
   "outputs": [
    {
     "data": {
      "text/plain": [
       "{4, 5}"
      ]
     },
     "execution_count": 7,
     "metadata": {},
     "output_type": "execute_result"
    }
   ],
   "source": [
    "s1.intersection(s2)"
   ]
  },
  {
   "cell_type": "code",
   "execution_count": 8,
   "id": "fc9c62fc",
   "metadata": {},
   "outputs": [
    {
     "data": {
      "text/plain": [
       "{1, 2, 3}"
      ]
     },
     "execution_count": 8,
     "metadata": {},
     "output_type": "execute_result"
    }
   ],
   "source": [
    "s1 - s2"
   ]
  },
  {
   "cell_type": "code",
   "execution_count": 9,
   "id": "8c14bcd3",
   "metadata": {},
   "outputs": [
    {
     "data": {
      "text/plain": [
       "{1, 2, 3}"
      ]
     },
     "execution_count": 9,
     "metadata": {},
     "output_type": "execute_result"
    }
   ],
   "source": [
    "s1.difference(s2)"
   ]
  },
  {
   "cell_type": "code",
   "execution_count": 10,
   "id": "34a9e68a",
   "metadata": {},
   "outputs": [
    {
     "data": {
      "text/plain": [
       "False"
      ]
     },
     "execution_count": 10,
     "metadata": {},
     "output_type": "execute_result"
    }
   ],
   "source": [
    "s1.issubset(s2)"
   ]
  },
  {
   "cell_type": "code",
   "execution_count": 11,
   "id": "9ff1d2ca",
   "metadata": {},
   "outputs": [
    {
     "data": {
      "text/plain": [
       "15"
      ]
     },
     "execution_count": 11,
     "metadata": {},
     "output_type": "execute_result"
    }
   ],
   "source": [
    "sum(s1)"
   ]
  },
  {
   "cell_type": "code",
   "execution_count": 12,
   "id": "22e30b54",
   "metadata": {},
   "outputs": [
    {
     "data": {
      "text/plain": [
       "4"
      ]
     },
     "execution_count": 12,
     "metadata": {},
     "output_type": "execute_result"
    }
   ],
   "source": [
    "min(s2)"
   ]
  },
  {
   "cell_type": "code",
   "execution_count": 13,
   "id": "456cf1fc",
   "metadata": {},
   "outputs": [
    {
     "data": {
      "text/plain": [
       "8"
      ]
     },
     "execution_count": 13,
     "metadata": {},
     "output_type": "execute_result"
    }
   ],
   "source": [
    "max(s2)"
   ]
  },
  {
   "cell_type": "code",
   "execution_count": 1,
   "id": "7607c510",
   "metadata": {},
   "outputs": [
    {
     "name": "stdout",
     "output_type": "stream",
     "text": [
      "R R R R R \n",
      "\n",
      "\n",
      "\n",
      "\n"
     ]
    }
   ],
   "source": [
    "\n",
    "i=0\n",
    "j=0\n",
    "while(i<5):\n",
    "    while(j<5):\n",
    "        print(\"R\",end=' ')\n",
    "        j=j+1\n",
    "    print()\n",
    "    i=i+1\n",
    "    \n",
    "    \n",
    "    "
   ]
  },
  {
   "cell_type": "code",
   "execution_count": null,
   "id": "5799f1c7",
   "metadata": {},
   "outputs": [],
   "source": []
  }
 ],
 "metadata": {
  "kernelspec": {
   "display_name": "Python 3 (ipykernel)",
   "language": "python",
   "name": "python3"
  },
  "language_info": {
   "codemirror_mode": {
    "name": "ipython",
    "version": 3
   },
   "file_extension": ".py",
   "mimetype": "text/x-python",
   "name": "python",
   "nbconvert_exporter": "python",
   "pygments_lexer": "ipython3",
   "version": "3.10.12"
  }
 },
 "nbformat": 4,
 "nbformat_minor": 5
}
