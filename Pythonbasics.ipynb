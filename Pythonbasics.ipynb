{
 "cells": [
  {
   "cell_type": "markdown",
   "id": "20cfb054",
   "metadata": {},
   "source": [
    "# Python basics"
   ]
  },
  {
   "cell_type": "code",
   "execution_count": 9,
   "id": "c4bc53b0",
   "metadata": {
    "scrolled": true
   },
   "outputs": [
    {
     "name": "stdout",
     "output_type": "stream",
     "text": [
      "hello world!\n"
     ]
    }
   ],
   "source": [
    "print(\"hello world!\")"
   ]
  },
  {
   "cell_type": "markdown",
   "id": "56009329",
   "metadata": {},
   "source": [
    "## variabales  is storage of a value with some names."
   ]
  },
  {
   "cell_type": "code",
   "execution_count": 10,
   "id": "6f73b2b5",
   "metadata": {},
   "outputs": [],
   "source": [
    "a=123\n",
    "b=\"hello world\"\n",
    "c=23.222"
   ]
  },
  {
   "cell_type": "code",
   "execution_count": 11,
   "id": "a1908703",
   "metadata": {},
   "outputs": [
    {
     "name": "stdout",
     "output_type": "stream",
     "text": [
      "Variable   Type     Data/Info\n",
      "-----------------------------\n",
      "a          int      123\n",
      "b          str      hello world\n",
      "c          float    23.222\n",
      "s          str      good morning\n",
      "s1         str      good \n",
      "s2         str      morning\n"
     ]
    }
   ],
   "source": [
    "%whos"
   ]
  },
  {
   "cell_type": "code",
   "execution_count": 12,
   "id": "34edee9d",
   "metadata": {},
   "outputs": [
    {
     "name": "stdout",
     "output_type": "stream",
     "text": [
      "<class 'int'>\n",
      "<class 'str'>\n",
      "<class 'float'>\n"
     ]
    }
   ],
   "source": [
    "print(type(a))\n",
    "print(type(b))\n",
    "print(type(c))"
   ]
  },
  {
   "cell_type": "code",
   "execution_count": 13,
   "id": "b6ea3a0e",
   "metadata": {},
   "outputs": [],
   "source": [
    "del c #del is used to delete that variable with address\n"
   ]
  },
  {
   "cell_type": "code",
   "execution_count": 14,
   "id": "eed91f50",
   "metadata": {},
   "outputs": [
    {
     "name": "stdout",
     "output_type": "stream",
     "text": [
      "Variable   Type    Data/Info\n",
      "----------------------------\n",
      "a          int     123\n",
      "b          str     hello world\n",
      "s          str     good morning\n",
      "s1         str     good \n",
      "s2         str     morning\n"
     ]
    }
   ],
   "source": [
    "%whos"
   ]
  },
  {
   "cell_type": "code",
   "execution_count": 15,
   "id": "18f117d2",
   "metadata": {},
   "outputs": [
    {
     "name": "stdout",
     "output_type": "stream",
     "text": [
      "good morning\n"
     ]
    }
   ],
   "source": [
    "s1='good '\n",
    "s2='morning'\n",
    "s=s1+s2 #string concatenation\n",
    "print(s)"
   ]
  },
  {
   "cell_type": "code",
   "execution_count": 16,
   "id": "757081f9",
   "metadata": {},
   "outputs": [
    {
     "ename": "SyntaxError",
     "evalue": "invalid syntax (440581900.py, line 2)",
     "output_type": "error",
     "traceback": [
      "\u001b[0;36m  Input \u001b[0;32mIn [16]\u001b[0;36m\u001b[0m\n\u001b[0;31m    @num=3.4        #varibel name not start with symbols except '_'\u001b[0m\n\u001b[0m        ^\u001b[0m\n\u001b[0;31mSyntaxError\u001b[0m\u001b[0;31m:\u001b[0m invalid syntax\n"
     ]
    }
   ],
   "source": [
    "num=123\n",
    "@num=3.4        #varibel name not start with symbols except '_'\n",
    "_num=3.455\n",
    "3num=\"string\"    #variable name can't be start with number also\n",
    "print(num)\n",
    "print(_num)"
   ]
  },
  {
   "cell_type": "markdown",
   "id": "fbf43281",
   "metadata": {},
   "source": [
    "## BOOLEAN OPERATIORS COMPARATORS\t"
   ]
  },
  {
   "cell_type": "code",
   "execution_count": 1,
   "id": "ee28f4a3",
   "metadata": {},
   "outputs": [
    {
     "name": "stdout",
     "output_type": "stream",
     "text": [
      "True\n",
      "True\n",
      "True\n",
      "False\n",
      "True\n"
     ]
    }
   ],
   "source": [
    "x=2<3\n",
    "y=True\n",
    "z=5==6\n",
    "print(3==3.0)\n",
    "print(x)\n",
    "print(y)\n",
    "print(z)\n",
    "print(not(10!=10))"
   ]
  },
  {
   "cell_type": "code",
   "execution_count": 3,
   "id": "90c128fc",
   "metadata": {},
   "outputs": [
    {
     "name": "stdout",
     "output_type": "stream",
     "text": [
      "Variable   Type    Data/Info\n",
      "----------------------------\n",
      "x          bool    True\n",
      "y          bool    True\n",
      "z          bool    False\n"
     ]
    }
   ],
   "source": [
    "%whos"
   ]
  },
  {
   "cell_type": "code",
   "execution_count": 4,
   "id": "3b02c60c",
   "metadata": {},
   "outputs": [
    {
     "name": "stdout",
     "output_type": "stream",
     "text": [
      "False\n",
      "True\n",
      "False\n"
     ]
    }
   ],
   "source": [
    "print(z and y)\n",
    "print(z or y)\n",
    "print(not((x and y)or(z and False))) "
   ]
  },
  {
   "cell_type": "code",
   "execution_count": 5,
   "id": "a283de6b",
   "metadata": {},
   "outputs": [
    {
     "name": "stdout",
     "output_type": "stream",
     "text": [
      "True\n",
      "True\n",
      "False\n"
     ]
    }
   ],
   "source": [
    "print((True and True or False))\n",
    "print(True and False or True) #always \"or\" operator works first\n",
    "print((not(2!=3)and True)or (False and True))"
   ]
  },
  {
   "cell_type": "markdown",
   "id": "16c05efb",
   "metadata": {},
   "source": [
    "### ROUND() FUNCTION->round funtion gives the ceil value when decimal starts with 5 and gives floor decimal starts with below 5 "
   ]
  },
  {
   "cell_type": "code",
   "execution_count": 21,
   "id": "4531e8af",
   "metadata": {},
   "outputs": [
    {
     "name": "stdout",
     "output_type": "stream",
     "text": [
      "6\n",
      "6\n",
      "5\n",
      "7.3434\n"
     ]
    }
   ],
   "source": [
    "print(round(5.677))\n",
    "print(round(5.5))\n",
    "print(round(5.32423))\n",
    "print(round(7.343434,4)) #rounds 4 decimal points"
   ]
  },
  {
   "cell_type": "markdown",
   "id": "767c6e60",
   "metadata": {},
   "source": [
    "## DIVMOD()->return the dividor and the reminder in tuple form"
   ]
  },
  {
   "cell_type": "code",
   "execution_count": 22,
   "id": "73d6ed31",
   "metadata": {},
   "outputs": [
    {
     "name": "stdout",
     "output_type": "stream",
     "text": [
      "(5, 2)\n"
     ]
    }
   ],
   "source": [
    "print(divmod(27,5)) #5 is dividor and 2 is reminder in this problem"
   ]
  },
  {
   "cell_type": "code",
   "execution_count": 23,
   "id": "3590b8bc",
   "metadata": {},
   "outputs": [
    {
     "name": "stdout",
     "output_type": "stream",
     "text": [
      "(2, 7)\n",
      "<class 'tuple'>\n",
      "2\n",
      "7\n"
     ]
    }
   ],
   "source": [
    "t=divmod(27,10) #result will  save in the tuple format\n",
    "print(t)\n",
    "print(type(t))\n",
    "print(t[0])\n",
    "print(t[1])"
   ]
  },
  {
   "cell_type": "markdown",
   "id": "71d59adc",
   "metadata": {},
   "source": [
    "#### ISINSTACE-> isinstance funciton is used to check wheather given value with given datatype"
   ]
  },
  {
   "cell_type": "code",
   "execution_count": 24,
   "id": "970943c7",
   "metadata": {},
   "outputs": [
    {
     "name": "stdout",
     "output_type": "stream",
     "text": [
      "True\n",
      "False\n",
      "True\n"
     ]
    }
   ],
   "source": [
    "print(isinstance(1,int))\n",
    "print(isinstance(2.44,int))\n",
    "print(isinstance(2+4j,(int,float,complex)))"
   ]
  },
  {
   "cell_type": "markdown",
   "id": "0e10038d",
   "metadata": {},
   "source": [
    "### POW\n",
    "  ->pow(x,y) is x power y =$x^y$\n",
    "  ->pow(x,y,z) is x power y =$x^y$ and modulus of z\n",
    "  -> know more about any function function?"
   ]
  },
  {
   "cell_type": "code",
   "execution_count": 25,
   "id": "be3b9449",
   "metadata": {},
   "outputs": [
    {
     "name": "stdout",
     "output_type": "stream",
     "text": [
      "81\n",
      "1\n"
     ]
    }
   ],
   "source": [
    "print(pow(3,4))\n",
    "print(pow(3,4,2)) #81%2 =1 reminder\n"
   ]
  },
  {
   "cell_type": "markdown",
   "id": "8d106c0c",
   "metadata": {},
   "source": [
    "## user input"
   ]
  },
  {
   "cell_type": "code",
   "execution_count": null,
   "id": "d23e1513",
   "metadata": {},
   "outputs": [],
   "source": [
    "str1=input(\"Enter any string\")\n",
    "str2=int(input(\"Enter only integers\"))\n",
    "print(str1)\n",
    "print(str2)"
   ]
  },
  {
   "cell_type": "code",
   "execution_count": 6,
   "id": "10484378",
   "metadata": {},
   "outputs": [
    {
     "name": "stdout",
     "output_type": "stream",
     "text": [
      "Enter float values only:123\n",
      "Enter integer values only:123\n",
      "123.0\n",
      "123\n"
     ]
    }
   ],
   "source": [
    "fl=float(input(\"Enter float values only:\"))\n",
    "inn=int(input(\"Enter integer values only:\"))\n",
    "print(fl)\n",
    "print(inn)"
   ]
  },
  {
   "cell_type": "markdown",
   "id": "031fbc74",
   "metadata": {},
   "source": [
    "# CONTROL FLOW"
   ]
  },
  {
   "cell_type": "markdown",
   "id": "03e8c007",
   "metadata": {},
   "source": [
    "#### CONTROL STATEMENTS"
   ]
  },
  {
   "cell_type": "code",
   "execution_count": 11,
   "id": "ab8b4faa",
   "metadata": {},
   "outputs": [
    {
     "name": "stdout",
     "output_type": "stream",
     "text": [
      "Enter your marks:78.4\n",
      "B GRADE\n"
     ]
    }
   ],
   "source": [
    "grade=float(input(\"Enter your marks:\"))\n",
    "if(grade>90):\n",
    "    print(\"EX GRADE\")\n",
    "elif(grade>80 and grade<=90):\n",
    "    print(\"A GRADE\")\n",
    "elif(grade>70 and grade<=80):\n",
    "    print(\"B GRADE\")\n",
    "elif(grade>60 and grade<=70):\n",
    "    print(\"C GRADE\")\n",
    "elif(grade>50 and grade<=60):\n",
    "    print(\"D GRADE\")\n",
    "elif(grade>42 and grade<=50):\n",
    "    print(\"E GRADE\")\n",
    "else:\n",
    "    print(\"FAIL\")\n",
    "\n",
    "    "
   ]
  },
  {
   "cell_type": "markdown",
   "id": "8c22abec",
   "metadata": {},
   "source": [
    "### LOOPS"
   ]
  },
  {
   "cell_type": "code",
   "execution_count": 5,
   "id": "b93206bb",
   "metadata": {},
   "outputs": [
    {
     "name": "stdout",
     "output_type": "stream",
     "text": [
      "0\n",
      "1\n",
      "2\n",
      "3\n",
      "4\n",
      "5\n",
      "6\n",
      "7\n",
      "8\n",
      "9\n",
      "2 3 4 5 6 7 8 9 10 11 \n",
      "10 17 24 31 38 45 52 59 66 73 80 87 94 "
     ]
    }
   ],
   "source": [
    "for i in range(10):\n",
    "    print(i)\n",
    "for j in range(2,12):\n",
    "    print(j,end=\" \")\n",
    "print()\n",
    "for k in range(10,100,7):\n",
    "    #break\n",
    "    print(k,end=' ')"
   ]
  },
  {
   "cell_type": "code",
   "execution_count": 13,
   "id": "ebada747",
   "metadata": {},
   "outputs": [
    {
     "name": "stdout",
     "output_type": "stream",
     "text": [
      "10\n",
      "11\n",
      "12\n",
      "13\n",
      "14\n",
      "15\n",
      "16\n",
      "17\n",
      "18\n",
      "19\n"
     ]
    }
   ],
   "source": [
    "num_1=10\n",
    "while(num_1<20):\n",
    "    print(num_1)\n",
    "    num_1+=1"
   ]
  },
  {
   "cell_type": "code",
   "execution_count": 14,
   "id": "541852ed",
   "metadata": {},
   "outputs": [
    {
     "name": "stdout",
     "output_type": "stream",
     "text": [
      "2\n",
      "4\n",
      "6\n",
      "8\n",
      "10\n",
      "12\n",
      "14\n",
      "16\n",
      "18\n",
      "loop end\n"
     ]
    }
   ],
   "source": [
    "for i in range(2,20):\n",
    "    if(i%2==0):\n",
    "        print(i)\n",
    "    else:\n",
    "        pass\n",
    "print(\"loop end\")"
   ]
  },
  {
   "cell_type": "code",
   "execution_count": 15,
   "id": "04b5c85b",
   "metadata": {},
   "outputs": [
    {
     "name": "stdout",
     "output_type": "stream",
     "text": [
      "0\n",
      "1\n",
      "2\n",
      "3\n",
      "4\n",
      "5\n",
      "6\n",
      "7\n",
      "8\n",
      "9\n",
      "for else part\n"
     ]
    }
   ],
   "source": [
    "for i in range(10):\n",
    "    print(i)\n",
    "        \n",
    "else:\n",
    "    print(\"for else part\")"
   ]
  },
  {
   "cell_type": "markdown",
   "id": "af2befb6",
   "metadata": {},
   "source": [
    "## FUNCTIONS"
   ]
  },
  {
   "cell_type": "code",
   "execution_count": 16,
   "id": "265cfe85",
   "metadata": {},
   "outputs": [],
   "source": [
    "def msg():\n",
    "    print(\"hello this is function\")"
   ]
  },
  {
   "cell_type": "code",
   "execution_count": 17,
   "id": "cdc6970f",
   "metadata": {},
   "outputs": [
    {
     "name": "stdout",
     "output_type": "stream",
     "text": [
      "hello this is function\n"
     ]
    }
   ],
   "source": [
    "msg()"
   ]
  },
  {
   "cell_type": "code",
   "execution_count": 7,
   "id": "b5b14050",
   "metadata": {},
   "outputs": [
    {
     "name": "stdout",
     "output_type": "stream",
     "text": [
      "msg1 function print only single statement\n"
     ]
    }
   ],
   "source": [
    "def msg1():\n",
    "    \"\"\"this doc string about this function definition,user can know about this function see the docstring\"\"\"\n",
    "    print(\"msg1 function print only single statement\")\n",
    "msg1()"
   ]
  },
  {
   "cell_type": "code",
   "execution_count": 8,
   "id": "5eae2322",
   "metadata": {},
   "outputs": [],
   "source": [
    "msg1?"
   ]
  },
  {
   "cell_type": "code",
   "execution_count": 20,
   "id": "14bbc649",
   "metadata": {},
   "outputs": [
    {
     "name": "stdout",
     "output_type": "stream",
     "text": [
      "7\n",
      "hello friends\n"
     ]
    }
   ],
   "source": [
    "def messgearg(mssg):\n",
    "    print(mssg)\n",
    "messgearg(7)\n",
    "messgearg(\"hello friends\")"
   ]
  },
  {
   "cell_type": "code",
   "execution_count": 10,
   "id": "6f587afa",
   "metadata": {},
   "outputs": [
    {
     "name": "stdout",
     "output_type": "stream",
     "text": [
      "7\n"
     ]
    }
   ],
   "source": [
    "def g(a,b,c):\n",
    "    print(a+b+c)\n",
    "g(1,2,4)    #arguments must number of argments in definition of function"
   ]
  },
  {
   "cell_type": "code",
   "execution_count": 38,
   "id": "5484dc5b",
   "metadata": {},
   "outputs": [
    {
     "name": "stdout",
     "output_type": "stream",
     "text": [
      "22 11 33\n"
     ]
    }
   ],
   "source": [
    "def ff(c2,c1,c3):\n",
    "    print(c1,c2,c3)\n",
    "ff(11,22,33)"
   ]
  },
  {
   "cell_type": "code",
   "execution_count": 39,
   "id": "f31c6bd7",
   "metadata": {},
   "outputs": [
    {
     "name": "stdout",
     "output_type": "stream",
     "text": [
      "11 22 33\n"
     ]
    }
   ],
   "source": [
    "ff(c1=11,c2=22,c3=33)"
   ]
  },
  {
   "cell_type": "markdown",
   "id": "a9acdc93",
   "metadata": {},
   "source": [
    "### GLOBAL AND LOCAL VARIABLE"
   ]
  },
  {
   "cell_type": "code",
   "execution_count": 13,
   "id": "59300dfd",
   "metadata": {},
   "outputs": [
    {
     "name": "stdout",
     "output_type": "stream",
     "text": [
      "22\n",
      "10\n",
      "20\n"
     ]
    }
   ],
   "source": [
    "glb=20   #global variable \n",
    "def fun_():\n",
    "    lvb=10  #local variable\n",
    "    glb=22\n",
    "    print(glb)\n",
    "    print(lvb)\n",
    "fun_()\n",
    "print(glb)\n"
   ]
  },
  {
   "cell_type": "code",
   "execution_count": 14,
   "id": "d48c0ff7",
   "metadata": {},
   "outputs": [
    {
     "name": "stdout",
     "output_type": "stream",
     "text": [
      "20\n"
     ]
    }
   ],
   "source": [
    "print(glb)  "
   ]
  },
  {
   "cell_type": "code",
   "execution_count": 15,
   "id": "a4facb68",
   "metadata": {},
   "outputs": [
    {
     "name": "stdout",
     "output_type": "stream",
     "text": [
      "22\n",
      "10\n"
     ]
    },
    {
     "data": {
      "text/plain": [
       "NoneType"
      ]
     },
     "execution_count": 15,
     "metadata": {},
     "output_type": "execute_result"
    }
   ],
   "source": [
    "type(fun_())"
   ]
  },
  {
   "cell_type": "markdown",
   "id": "942f5041",
   "metadata": {},
   "source": [
    "## RETURN "
   ]
  },
  {
   "cell_type": "code",
   "execution_count": 43,
   "id": "6f31b7e6",
   "metadata": {},
   "outputs": [
    {
     "name": "stdout",
     "output_type": "stream",
     "text": [
      "66\n"
     ]
    }
   ],
   "source": [
    "def add(xx,yy):\n",
    "    return xx+yy\n",
    "print(add(12,54))"
   ]
  },
  {
   "cell_type": "code",
   "execution_count": 44,
   "id": "1d9ad5e0",
   "metadata": {},
   "outputs": [
    {
     "data": {
      "text/plain": [
       "int"
      ]
     },
     "execution_count": 44,
     "metadata": {},
     "output_type": "execute_result"
    }
   ],
   "source": [
    "type(add(1,2))"
   ]
  },
  {
   "cell_type": "code",
   "execution_count": 45,
   "id": "5a1c21d4",
   "metadata": {},
   "outputs": [
    {
     "name": "stdout",
     "output_type": "stream",
     "text": [
      "A\n",
      "B\n"
     ]
    }
   ],
   "source": [
    "def r():\n",
    "    print(\"A\")\n",
    "    print(\"B\")\n",
    "    return\n",
    "    print(\"something\")\n",
    "r()"
   ]
  },
  {
   "cell_type": "code",
   "execution_count": 46,
   "id": "3da9292c",
   "metadata": {},
   "outputs": [
    {
     "name": "stdout",
     "output_type": "stream",
     "text": [
      "3 7 9\n"
     ]
    }
   ],
   "source": [
    "def p():\n",
    "    a=9\n",
    "    b=7\n",
    "    c=3\n",
    "    return a,b,c\n",
    "h,j,l=p()\n",
    "print(l,j,h)"
   ]
  },
  {
   "cell_type": "code",
   "execution_count": 47,
   "id": "5cb4e908",
   "metadata": {},
   "outputs": [
    {
     "name": "stdout",
     "output_type": "stream",
     "text": [
      "15\n"
     ]
    }
   ],
   "source": [
    "def add1(*args):\n",
    "    s=0\n",
    "    for i in range(len(args)):\n",
    "        s+=args[i]\n",
    "    return s\n",
    "print(add1(1,2,3,4,5))"
   ]
  },
  {
   "cell_type": "code",
   "execution_count": 22,
   "id": "41825d7b",
   "metadata": {},
   "outputs": [
    {
     "name": "stdout",
     "output_type": "stream",
     "text": [
      "key: a  value: 2\n",
      "key: b  value: hi\n",
      "key: c  value: (4+7j)\n"
     ]
    }
   ],
   "source": [
    "def dictinargs(**args):\n",
    "    for x in args:\n",
    "        print(\"key:\",x,\" value:\",args[x])\n",
    "dictinargs(a=2,b=\"hi\",c=4+7j)"
   ]
  },
  {
   "cell_type": "code",
   "execution_count": 49,
   "id": "a26cc69e",
   "metadata": {},
   "outputs": [],
   "source": [
    "def default(s=33):\n",
    "    print(s)\n",
    "    "
   ]
  },
  {
   "cell_type": "code",
   "execution_count": 50,
   "id": "ea93e245",
   "metadata": {},
   "outputs": [
    {
     "name": "stdout",
     "output_type": "stream",
     "text": [
      "33\n"
     ]
    }
   ],
   "source": [
    "default()"
   ]
  },
  {
   "cell_type": "code",
   "execution_count": 51,
   "id": "2cb6541c",
   "metadata": {},
   "outputs": [
    {
     "name": "stdout",
     "output_type": "stream",
     "text": [
      "66\n"
     ]
    }
   ],
   "source": [
    "default(66)"
   ]
  },
  {
   "cell_type": "code",
   "execution_count": 52,
   "id": "b1a08cd1",
   "metadata": {},
   "outputs": [
    {
     "name": "stdout",
     "output_type": "stream",
     "text": [
      "[1, 2, 44]\n"
     ]
    }
   ],
   "source": [
    "l1=[1,2,3]\n",
    "l2=l1\n",
    "l2[2]=44\n",
    "print(l1)"
   ]
  },
  {
   "cell_type": "code",
   "execution_count": 18,
   "id": "1fd53ac3",
   "metadata": {},
   "outputs": [],
   "source": [
    "def fun1(l3=[1,2,3,5,6]):\n",
    "    for i in l3:\n",
    "        print(i)\n",
    "        "
   ]
  },
  {
   "cell_type": "code",
   "execution_count": 19,
   "id": "c036a3bc",
   "metadata": {},
   "outputs": [
    {
     "name": "stdout",
     "output_type": "stream",
     "text": [
      "1\n",
      "2\n",
      "3\n",
      "5\n",
      "6\n"
     ]
    }
   ],
   "source": [
    "fun1()"
   ]
  },
  {
   "cell_type": "code",
   "execution_count": 20,
   "id": "5fd3978e",
   "metadata": {},
   "outputs": [
    {
     "name": "stdout",
     "output_type": "stream",
     "text": [
      "66\n",
      "77\n",
      "88\n",
      "99\n"
     ]
    }
   ],
   "source": [
    "l4=[66,77,88,99]\n",
    "fun1(l4)"
   ]
  },
  {
   "cell_type": "code",
   "execution_count": 56,
   "id": "b371e49c",
   "metadata": {
    "scrolled": true
   },
   "outputs": [
    {
     "name": "stdout",
     "output_type": "stream",
     "text": [
      "1\n",
      "2\n",
      "3\n",
      "5\n",
      "6\n"
     ]
    }
   ],
   "source": [
    "fun1()"
   ]
  },
  {
   "cell_type": "code",
   "execution_count": 57,
   "id": "fc1c3114",
   "metadata": {},
   "outputs": [],
   "source": [
    "#minimum element in the list\n",
    "def minele(L,start):\n",
    "    mine=L[start]\n",
    "    idx=start\n",
    "    for i in range(start,len(L)):\n",
    "        if L[i]<mine:\n",
    "            mine=L[i]\n",
    "            idx=i\n",
    "        \n",
    "    return mine,idx\n"
   ]
  },
  {
   "cell_type": "code",
   "execution_count": 58,
   "id": "d3b99999",
   "metadata": {},
   "outputs": [
    {
     "name": "stdout",
     "output_type": "stream",
     "text": [
      "(1, 3)\n"
     ]
    }
   ],
   "source": [
    "print(minele([2,4,6,1,3],0))"
   ]
  },
  {
   "cell_type": "code",
   "execution_count": 59,
   "id": "4091bb01",
   "metadata": {},
   "outputs": [],
   "source": [
    "def swapele(tmp1,tmp2):\n",
    "    tmp=tmp2\n",
    "    tmp2=tmp1\n",
    "    tmp1=tmp\n",
    "    return tmp1,tmp2"
   ]
  },
  {
   "cell_type": "code",
   "execution_count": 60,
   "id": "1f780dfc",
   "metadata": {
    "scrolled": true
   },
   "outputs": [
    {
     "name": "stdout",
     "output_type": "stream",
     "text": [
      "(33, 22)\n"
     ]
    }
   ],
   "source": [
    "print(swapele(22,33))"
   ]
  },
  {
   "cell_type": "code",
   "execution_count": 61,
   "id": "d9538601",
   "metadata": {},
   "outputs": [],
   "source": [
    "def swaplistele(L1,idx1,idx2):\n",
    "    tmp=L1[idx1]\n",
    "    L1[idx1]=L1[idx2]\n",
    "    L1[idx2]=tmp\n",
    "    return L1"
   ]
  },
  {
   "cell_type": "code",
   "execution_count": 62,
   "id": "d180ebaf",
   "metadata": {
    "scrolled": true
   },
   "outputs": [
    {
     "name": "stdout",
     "output_type": "stream",
     "text": [
      "[0, 5, 3, 1, 2]\n"
     ]
    }
   ],
   "source": [
    "print(swaplistele([2,5,3,1,0],0,4))"
   ]
  },
  {
   "cell_type": "code",
   "execution_count": 63,
   "id": "212dc0d3",
   "metadata": {},
   "outputs": [],
   "source": [
    "def sortlist(L):\n",
    "    c=0\n",
    "    for x in L:\n",
    "        m,idx=minele(L,c)\n",
    "        L=swaplistele(L,c,idx)\n",
    "        c+=1\n",
    "    return L"
   ]
  },
  {
   "cell_type": "code",
   "execution_count": 64,
   "id": "014535ed",
   "metadata": {},
   "outputs": [
    {
     "name": "stdout",
     "output_type": "stream",
     "text": [
      "[-1, 2, 3, 5, 7]\n"
     ]
    }
   ],
   "source": [
    "print(sortlist([2,3,-1,7,5]))"
   ]
  },
  {
   "cell_type": "markdown",
   "id": "23ab98e5",
   "metadata": {},
   "source": [
    "## STRINGS\n"
   ]
  },
  {
   "cell_type": "code",
   "execution_count": 65,
   "id": "c4883c06",
   "metadata": {},
   "outputs": [
    {
     "name": "stdout",
     "output_type": "stream",
     "text": [
      "this is python basics ,for the data science.\n"
     ]
    }
   ],
   "source": [
    "s=\"this is python basics \"\n",
    "t=\"for the data science.\"\n",
    "print(s+\",\"+t)"
   ]
  },
  {
   "cell_type": "code",
   "execution_count": 66,
   "id": "0f68e8ef",
   "metadata": {},
   "outputs": [
    {
     "name": "stdout",
     "output_type": "stream",
     "text": [
      "data science in sem 2 for cse students\n"
     ]
    }
   ],
   "source": [
    "print(\"data science in sem\" ,2,\"for cse students\" )"
   ]
  },
  {
   "cell_type": "code",
   "execution_count": 67,
   "id": "05dad410",
   "metadata": {},
   "outputs": [
    {
     "name": "stdout",
     "output_type": "stream",
     "text": [
      "this is python basics and for the data science.\n"
     ]
    }
   ],
   "source": [
    "v=s+'and '+t\n",
    "print(v)"
   ]
  },
  {
   "cell_type": "code",
   "execution_count": 68,
   "id": "2a8ea1a1",
   "metadata": {},
   "outputs": [
    {
     "name": "stdout",
     "output_type": "stream",
     "text": [
      "cost of the book is: 15\n"
     ]
    }
   ],
   "source": [
    "cost=15\n",
    "print(\"cost of the book is:\",cost)"
   ]
  },
  {
   "cell_type": "code",
   "execution_count": 69,
   "id": "e8688700",
   "metadata": {},
   "outputs": [
    {
     "name": "stdout",
     "output_type": "stream",
     "text": [
      "cost of the book is :15\n"
     ]
    }
   ],
   "source": [
    "pr=\"cost of the book is :\"+str(cost) # if str not given then it gives error\n",
    "print(pr)"
   ]
  },
  {
   "cell_type": "code",
   "execution_count": 23,
   "id": "25f68d11",
   "metadata": {},
   "outputs": [
    {
     "name": "stdout",
     "output_type": "stream",
     "text": [
      "this is a multiline string\n",
      "with same as the comment \n",
      "but written in the variable\n",
      "\n",
      "this is a multiline string\n",
      "with same as the comment \n",
      "but written in the variable\n",
      "\n"
     ]
    }
   ],
   "source": [
    "mulitline=\"\"\"this is a multiline string\n",
    "with same as the comment \n",
    "but written in the variable\n",
    "\"\"\"\n",
    "print(mulitline)\n",
    "print(\"\"\"this is a multiline string\n",
    "with same as the comment \n",
    "but written in the variable\n",
    "\"\"\")"
   ]
  },
  {
   "cell_type": "code",
   "execution_count": 71,
   "id": "e8ec4de6",
   "metadata": {},
   "outputs": [
    {
     "name": "stdout",
     "output_type": "stream",
     "text": [
      "is python basic for data science.\n",
      "this is python basic for data science.\n",
      ".ecneics atad rof cisab nohtyp si siht\n",
      ".\n",
      "r data scien\n",
      "iiph \n",
      "38\n",
      "16\n"
     ]
    }
   ],
   "source": [
    "a=\"this is python basic for data science.\"\n",
    "print(a[5:])\n",
    "print(a[0:])\n",
    "print(a[::-1])\n",
    "print(a[-1:])\n",
    "print(a[-15:-3])\n",
    "print(a[2:15:3]) #a[start:end:step]\n",
    "print(len(a))\n",
    "print(len(a[2:18]))"
   ]
  },
  {
   "cell_type": "code",
   "execution_count": 72,
   "id": "4ad2ad41",
   "metadata": {},
   "outputs": [
    {
     "ename": "TypeError",
     "evalue": "'str' object does not support item assignment",
     "output_type": "error",
     "traceback": [
      "\u001b[0;31m---------------------------------------------------------------------------\u001b[0m",
      "\u001b[0;31mTypeError\u001b[0m                                 Traceback (most recent call last)",
      "Input \u001b[0;32mIn [72]\u001b[0m, in \u001b[0;36m<cell line: 1>\u001b[0;34m()\u001b[0m\n\u001b[0;32m----> 1\u001b[0m a[\u001b[38;5;241m10\u001b[39m]\u001b[38;5;241m=\u001b[39m\u001b[38;5;124m'\u001b[39m\u001b[38;5;124ma\u001b[39m\u001b[38;5;124m'\u001b[39m\n",
      "\u001b[0;31mTypeError\u001b[0m: 'str' object does not support item assignment"
     ]
    }
   ],
   "source": [
    "a[10]='a'"
   ]
  },
  {
   "cell_type": "code",
   "execution_count": 73,
   "id": "19d2bc8d",
   "metadata": {},
   "outputs": [
    {
     "name": "stdout",
     "output_type": "stream",
     "text": [
      "this is python basic for data science.\n",
      "THIS IS PYTHON BASIC FOR DATA SCIENCE.\n",
      "this:is:python:basic:for:data:science.\n",
      "this is python basic for data science.\n"
     ]
    }
   ],
   "source": [
    "print(a.lower())\n",
    "print(a.upper())\n",
    "print(a.replace(\" \",\":\"))\n",
    "print(a)"
   ]
  },
  {
   "cell_type": "code",
   "execution_count": 74,
   "id": "94f38ee8",
   "metadata": {},
   "outputs": [
    {
     "name": "stdout",
     "output_type": "stream",
     "text": [
      "['this', 'split', 'funtion', 'in', 'strings']\n",
      "this\n",
      "strings\n"
     ]
    }
   ],
   "source": [
    "b=\"this:split:funtion:in:strings\"\n",
    "l=b.split(\":\")\n",
    "print(l)\n",
    "print(l[0])\n",
    "print(l[4])"
   ]
  },
  {
   "cell_type": "code",
   "execution_count": 75,
   "id": "fdd3cba6",
   "metadata": {},
   "outputs": [
    {
     "name": "stdout",
     "output_type": "stream",
     "text": [
      "the is lot of spaces in begin and end\n"
     ]
    }
   ],
   "source": [
    "c=\"    the is lot of spaces in begin and end    \"\n",
    "print(c.strip())"
   ]
  },
  {
   "cell_type": "code",
   "execution_count": 76,
   "id": "d9c88fb4",
   "metadata": {},
   "outputs": [
    {
     "name": "stdout",
     "output_type": "stream",
     "text": [
      "This:split:funtion:in:strings\n"
     ]
    }
   ],
   "source": [
    "print(b.capitalize())"
   ]
  },
  {
   "cell_type": "code",
   "execution_count": 77,
   "id": "af468d63",
   "metadata": {},
   "outputs": [
    {
     "name": "stdout",
     "output_type": "stream",
     "text": [
      "True\n"
     ]
    }
   ],
   "source": [
    "print(\"abc\" in \"bdbdabc\")"
   ]
  },
  {
   "cell_type": "code",
   "execution_count": 78,
   "id": "f6fc1bf3",
   "metadata": {},
   "outputs": [
    {
     "name": "stdout",
     "output_type": "stream",
     "text": [
      "we are at the \"string\" functions\n"
     ]
    }
   ],
   "source": [
    "print('we are at the \"string\" functions')"
   ]
  },
  {
   "cell_type": "code",
   "execution_count": 79,
   "id": "33bd9a27",
   "metadata": {},
   "outputs": [
    {
     "name": "stdout",
     "output_type": "stream",
     "text": [
      "hi hello this is data science\n",
      " string functions\n"
     ]
    }
   ],
   "source": [
    "print(\"hi hello this is data science\\n string functions\")"
   ]
  },
  {
   "cell_type": "markdown",
   "id": "f9f322a2",
   "metadata": {},
   "source": [
    "## DATA STRUCTURES"
   ]
  },
  {
   "cell_type": "code",
   "execution_count": 26,
   "id": "440278db",
   "metadata": {},
   "outputs": [
    {
     "name": "stdout",
     "output_type": "stream",
     "text": [
      "[1, 2, 3, 'pikachu', 3.5]\n",
      "(1, 2, 3, 'ash', 5.7)\n",
      "{4, 5, 22.4, 'misty', 43}\n",
      "{23: 'dsp', 'b': 22, 34: 124}\n",
      "<class 'list'>\n",
      "<class 'tuple'>\n",
      "<class 'set'>\n",
      "<class 'dict'>\n",
      "dict_keys([23, 'b', 34])\n",
      "dict_values(['dsp', 22, 124])\n",
      "dict_items([(23, 'dsp'), ('b', 22), (34, 124)])\n"
     ]
    }
   ],
   "source": [
    "li = [1,2,3,\"pikachu\",3.5]\n",
    "tu = (1,2,3,\"ash\",5.7)\n",
    "se = {43,5,4,\"misty\",22.4}\n",
    "dic = {23:\"dsp\",\"b\":22,34:124}\n",
    "print(li)\n",
    "print(tu)\n",
    "print(se)\n",
    "print(dic)\n",
    "print(type(li))\n",
    "print(type(tu))\n",
    "print(type(se))\n",
    "print(type(dic))\n",
    "print(dic.keys())\n",
    "print(dic.values())\n",
    "print(dic.items())"
   ]
  },
  {
   "cell_type": "code",
   "execution_count": 27,
   "id": "fdb70958",
   "metadata": {},
   "outputs": [
    {
     "name": "stdout",
     "output_type": "stream",
     "text": [
      "2\n",
      "True\n",
      "dsp\n",
      "ash\n"
     ]
    }
   ],
   "source": [
    "print(li[1])\n",
    "print(43 in se)\n",
    "print(dic[23])\n",
    "print(tu[3])"
   ]
  },
  {
   "cell_type": "code",
   "execution_count": 28,
   "id": "de61ed40",
   "metadata": {},
   "outputs": [
    {
     "data": {
      "text/plain": [
       "['pikachu', 3.5]"
      ]
     },
     "execution_count": 28,
     "metadata": {},
     "output_type": "execute_result"
    }
   ],
   "source": [
    "li[3:]"
   ]
  },
  {
   "cell_type": "code",
   "execution_count": 29,
   "id": "42ecb65a",
   "metadata": {},
   "outputs": [
    {
     "data": {
      "text/plain": [
       "(1, 2, 3)"
      ]
     },
     "execution_count": 29,
     "metadata": {},
     "output_type": "execute_result"
    }
   ],
   "source": [
    "tu[:3]"
   ]
  },
  {
   "cell_type": "code",
   "execution_count": 30,
   "id": "f4ea1ab1",
   "metadata": {},
   "outputs": [
    {
     "data": {
      "text/plain": [
       "[1, 2, 3, 'pikachu', 3.5, 'cse', 'ece']"
      ]
     },
     "execution_count": 30,
     "metadata": {},
     "output_type": "execute_result"
    }
   ],
   "source": [
    "l1=li+['cse','ece']\n",
    "l1"
   ]
  },
  {
   "cell_type": "code",
   "execution_count": 31,
   "id": "c07a680f",
   "metadata": {},
   "outputs": [
    {
     "data": {
      "text/plain": [
       "[1, 2, 3, 'pikachu', 3.5, 'cse', 'ece', 123]"
      ]
     },
     "execution_count": 31,
     "metadata": {},
     "output_type": "execute_result"
    }
   ],
   "source": [
    "l1.append(123)\n",
    "l1"
   ]
  },
  {
   "cell_type": "code",
   "execution_count": 32,
   "id": "704a7fe2",
   "metadata": {},
   "outputs": [],
   "source": [
    "t1=(\"puc\",\"btech\",\"mtech\")\n",
    "t2=(\"cse\",\"ece\",\"mech\")\n",
    "t3=t1+t2"
   ]
  },
  {
   "cell_type": "code",
   "execution_count": 33,
   "id": "cf52add5",
   "metadata": {},
   "outputs": [
    {
     "data": {
      "text/plain": [
       "('puc', 'btech', 'mtech', 'cse', 'ece', 'mech')"
      ]
     },
     "execution_count": 33,
     "metadata": {},
     "output_type": "execute_result"
    }
   ],
   "source": [
    "t3"
   ]
  },
  {
   "cell_type": "code",
   "execution_count": 34,
   "id": "86959d27",
   "metadata": {},
   "outputs": [
    {
     "data": {
      "text/plain": [
       "{22.4, 3232, 4, 43, 5, 'misty'}"
      ]
     },
     "execution_count": 34,
     "metadata": {},
     "output_type": "execute_result"
    }
   ],
   "source": [
    "se.add(3232)\n",
    "se"
   ]
  },
  {
   "cell_type": "code",
   "execution_count": 35,
   "id": "85b7a089",
   "metadata": {},
   "outputs": [
    {
     "data": {
      "text/plain": [
       "{1232, 1423, 22.4, 3232, 4, 43, 5, 'misty'}"
      ]
     },
     "execution_count": 35,
     "metadata": {},
     "output_type": "execute_result"
    }
   ],
   "source": [
    "se.update({1232,1423})\n",
    "se"
   ]
  },
  {
   "cell_type": "code",
   "execution_count": 36,
   "id": "47ebce4e",
   "metadata": {},
   "outputs": [
    {
     "data": {
      "text/plain": [
       "{23: 'dsp', 'b': 22, 34: 124}"
      ]
     },
     "execution_count": 36,
     "metadata": {},
     "output_type": "execute_result"
    }
   ],
   "source": [
    "dic\n"
   ]
  },
  {
   "cell_type": "code",
   "execution_count": 37,
   "id": "b34a24d6",
   "metadata": {},
   "outputs": [
    {
     "data": {
      "text/plain": [
       "{23: 'dsp', 'b': 22, 34: 124, 'newkwy': 'event'}"
      ]
     },
     "execution_count": 37,
     "metadata": {},
     "output_type": "execute_result"
    }
   ],
   "source": [
    "dic[\"newkwy\"]=\"event\"\n",
    "dic"
   ]
  },
  {
   "cell_type": "code",
   "execution_count": 38,
   "id": "844d8d9c",
   "metadata": {},
   "outputs": [
    {
     "ename": "TypeError",
     "evalue": "unsupported operand type(s) for +: 'dict' and 'dict'",
     "output_type": "error",
     "traceback": [
      "\u001b[0;31m---------------------------------------------------------------------------\u001b[0m",
      "\u001b[0;31mTypeError\u001b[0m                                 Traceback (most recent call last)",
      "Cell \u001b[0;32mIn[38], line 2\u001b[0m\n\u001b[1;32m      1\u001b[0m dic1\u001b[38;5;241m=\u001b[39m{\u001b[38;5;241m12\u001b[39m:\u001b[38;5;241m21\u001b[39m,\u001b[38;5;241m45\u001b[39m:\u001b[38;5;241m2323\u001b[39m}\n\u001b[0;32m----> 2\u001b[0m dic2\u001b[38;5;241m=\u001b[39m\u001b[43mdic1\u001b[49m\u001b[38;5;241;43m+\u001b[39;49m\u001b[43mdic\u001b[49m\n",
      "\u001b[0;31mTypeError\u001b[0m: unsupported operand type(s) for +: 'dict' and 'dict'"
     ]
    }
   ],
   "source": [
    "dic1={12:21,45:2323}\n",
    "dic2=dic1+dic"
   ]
  },
  {
   "cell_type": "code",
   "execution_count": 39,
   "id": "36d91af6",
   "metadata": {},
   "outputs": [],
   "source": [
    "del l1[3]"
   ]
  },
  {
   "cell_type": "code",
   "execution_count": 40,
   "id": "0397b47e",
   "metadata": {},
   "outputs": [
    {
     "data": {
      "text/plain": [
       "[1, 2, 3, 3.5, 'cse', 'ece', 123]"
      ]
     },
     "execution_count": 40,
     "metadata": {},
     "output_type": "execute_result"
    }
   ],
   "source": [
    "l1"
   ]
  },
  {
   "cell_type": "code",
   "execution_count": 41,
   "id": "1a6b91b8",
   "metadata": {},
   "outputs": [],
   "source": [
    "del dic['newkwy']"
   ]
  },
  {
   "cell_type": "code",
   "execution_count": 42,
   "id": "40473647",
   "metadata": {},
   "outputs": [
    {
     "data": {
      "text/plain": [
       "{23: 'dsp', 'b': 22, 34: 124}"
      ]
     },
     "execution_count": 42,
     "metadata": {},
     "output_type": "execute_result"
    }
   ],
   "source": [
    "dic"
   ]
  },
  {
   "cell_type": "code",
   "execution_count": 43,
   "id": "dd34e7e4",
   "metadata": {},
   "outputs": [],
   "source": [
    "lii=l1.copy()"
   ]
  },
  {
   "cell_type": "code",
   "execution_count": 44,
   "id": "e13f5320",
   "metadata": {},
   "outputs": [
    {
     "data": {
      "text/plain": [
       "[1, 2, 3, 3.5, 'cse', 'ece', 123]"
      ]
     },
     "execution_count": 44,
     "metadata": {},
     "output_type": "execute_result"
    }
   ],
   "source": [
    "lii"
   ]
  },
  {
   "cell_type": "code",
   "execution_count": 45,
   "id": "f79028c5",
   "metadata": {},
   "outputs": [],
   "source": [
    "l1.reverse()"
   ]
  },
  {
   "cell_type": "code",
   "execution_count": 46,
   "id": "6f42e25a",
   "metadata": {},
   "outputs": [
    {
     "data": {
      "text/plain": [
       "[123, 'ece', 'cse', 3.5, 3, 2, 1]"
      ]
     },
     "execution_count": 46,
     "metadata": {},
     "output_type": "execute_result"
    }
   ],
   "source": [
    "l1"
   ]
  },
  {
   "cell_type": "code",
   "execution_count": null,
   "id": "2c1ad46a",
   "metadata": {},
   "outputs": [],
   "source": []
  },
  {
   "cell_type": "markdown",
   "id": "cd1b48a5",
   "metadata": {},
   "source": [
    "### MODULES"
   ]
  },
  {
   "cell_type": "code",
   "execution_count": 47,
   "id": "38b52314",
   "metadata": {},
   "outputs": [
    {
     "data": {
      "text/plain": [
       "'ASH'"
      ]
     },
     "execution_count": 47,
     "metadata": {},
     "output_type": "execute_result"
    }
   ],
   "source": [
    "import sys\n",
    "sys.path.append('/home/prakash/Downloads/')\n",
    "import mymodules as myfun\n",
    "#from mymodule import add1 import only the function\n",
    "myfun.myname\n"
   ]
  },
  {
   "cell_type": "code",
   "execution_count": 48,
   "id": "eab59c95",
   "metadata": {},
   "outputs": [
    {
     "data": {
      "text/plain": [
       "58"
      ]
     },
     "execution_count": 48,
     "metadata": {},
     "output_type": "execute_result"
    }
   ],
   "source": [
    "myfun.add1(2,56)"
   ]
  },
  {
   "cell_type": "code",
   "execution_count": 49,
   "id": "d8d3caf5",
   "metadata": {},
   "outputs": [
    {
     "data": {
      "text/plain": [
       "False"
      ]
     },
     "execution_count": 49,
     "metadata": {},
     "output_type": "execute_result"
    }
   ],
   "source": [
    "myfun.divisableby2(12323)"
   ]
  },
  {
   "cell_type": "code",
   "execution_count": 50,
   "id": "2ca924a4",
   "metadata": {},
   "outputs": [
    {
     "name": "stdout",
     "output_type": "stream",
     "text": [
      "23 dsp\n",
      "b 22\n",
      "34 124\n"
     ]
    }
   ],
   "source": [
    "for x in dic:\n",
    "    print(x,dic[x])"
   ]
  },
  {
   "cell_type": "code",
   "execution_count": 59,
   "id": "8988dd5c",
   "metadata": {},
   "outputs": [],
   "source": [
    "L2=(l1,tu,dic,se)"
   ]
  },
  {
   "cell_type": "code",
   "execution_count": 60,
   "id": "6db57e94",
   "metadata": {},
   "outputs": [
    {
     "data": {
      "text/plain": [
       "([123, 'ece', 'cse', 3.5, 3, 2, 1],\n",
       " (1, 2, 3, 'ash', 5.7),\n",
       " {23: 'dsp', 'b': 22, 34: 124},\n",
       " {1232, 1423, 22.4, 3232, 4, 43, 5, 'misty'})"
      ]
     },
     "execution_count": 60,
     "metadata": {},
     "output_type": "execute_result"
    }
   ],
   "source": [
    "L2"
   ]
  },
  {
   "cell_type": "code",
   "execution_count": 61,
   "id": "987ecd75",
   "metadata": {},
   "outputs": [
    {
     "data": {
      "text/plain": [
       "dict"
      ]
     },
     "execution_count": 61,
     "metadata": {},
     "output_type": "execute_result"
    }
   ],
   "source": [
    "type(L2[2])"
   ]
  },
  {
   "cell_type": "code",
   "execution_count": 108,
   "id": "a45eeaaf",
   "metadata": {},
   "outputs": [],
   "source": [
    "L3=[x**2 for x in range(4)]"
   ]
  },
  {
   "cell_type": "code",
   "execution_count": 109,
   "id": "40a6aa0e",
   "metadata": {},
   "outputs": [
    {
     "data": {
      "text/plain": [
       "[0, 1, 4, 9]"
      ]
     },
     "execution_count": 109,
     "metadata": {},
     "output_type": "execute_result"
    }
   ],
   "source": [
    "L3"
   ]
  },
  {
   "cell_type": "code",
   "execution_count": 110,
   "id": "539e46e4",
   "metadata": {},
   "outputs": [],
   "source": [
    "s1={x*3 for x in range(10)}\n"
   ]
  },
  {
   "cell_type": "code",
   "execution_count": 111,
   "id": "f6ca8642",
   "metadata": {
    "scrolled": true
   },
   "outputs": [
    {
     "data": {
      "text/plain": [
       "{0, 3, 6, 9, 12, 15, 18, 21, 24, 27}"
      ]
     },
     "execution_count": 111,
     "metadata": {},
     "output_type": "execute_result"
    }
   ],
   "source": [
    "s1"
   ]
  },
  {
   "cell_type": "code",
   "execution_count": 112,
   "id": "7bed2121",
   "metadata": {},
   "outputs": [],
   "source": [
    "def getmarkd():\n",
    "    marksdic={}\n",
    "    while True:\n",
    "        student=input(\"enter student name:\")\n",
    "        marks=input('enter the subject marks with \",\" :')\n",
    "        exit=input(\"if all students details are entered then enter yes \")\n",
    "        if student in marksdic:\n",
    "            print(\"already entered:\")\n",
    "        else:\n",
    "            marksdic[student]=marks.split(\",\")\n",
    "        if exit.lower() ==\"yes\":\n",
    "            return marksdic\n",
    "    "
   ]
  },
  {
   "cell_type": "code",
   "execution_count": 113,
   "id": "72606507",
   "metadata": {},
   "outputs": [
    {
     "name": "stdout",
     "output_type": "stream",
     "text": [
      "enter student name:\n",
      "enter the subject marks with \",\" :\n",
      "if all students details are entered then enter yes \n",
      "enter student name:\n",
      "enter the subject marks with \",\" :\n",
      "if all students details are entered then enter yes no\n",
      "already entered:\n",
      "enter student name:yes\n",
      "enter the subject marks with \",\" :\n",
      "if all students details are entered then enter yes yes\n"
     ]
    }
   ],
   "source": [
    "\n",
    "studentdate=getmarkd()"
   ]
  },
  {
   "cell_type": "code",
   "execution_count": 114,
   "id": "eb77a1e4",
   "metadata": {},
   "outputs": [
    {
     "name": "stdout",
     "output_type": "stream",
     "text": [
      "{'': [''], 'yes': ['']}\n"
     ]
    }
   ],
   "source": [
    "print(studentdate)"
   ]
  },
  {
   "cell_type": "code",
   "execution_count": 115,
   "id": "d648de12",
   "metadata": {},
   "outputs": [],
   "source": [
    "def getavgmarks(D):\n",
    "    avgmarks={}\n",
    "    for x in D:\n",
    "        l=D[x]\n",
    "        s=0\n",
    "        for marks in l:\n",
    "            s+=int(marks)\n",
    "        avgmarks=s/len(l)\n",
    "    return avgmarks\n",
    "        \n",
    "        \n",
    "        "
   ]
  },
  {
   "cell_type": "code",
   "execution_count": 116,
   "id": "bda611f5",
   "metadata": {},
   "outputs": [
    {
     "ename": "ValueError",
     "evalue": "invalid literal for int() with base 10: ''",
     "output_type": "error",
     "traceback": [
      "\u001b[0;31m---------------------------------------------------------------------------\u001b[0m",
      "\u001b[0;31mValueError\u001b[0m                                Traceback (most recent call last)",
      "Input \u001b[0;32mIn [116]\u001b[0m, in \u001b[0;36m<cell line: 1>\u001b[0;34m()\u001b[0m\n\u001b[0;32m----> 1\u001b[0m avrmark\u001b[38;5;241m=\u001b[39m\u001b[43mgetavgmarks\u001b[49m\u001b[43m(\u001b[49m\u001b[43mstudentdate\u001b[49m\u001b[43m)\u001b[49m\n",
      "Input \u001b[0;32mIn [115]\u001b[0m, in \u001b[0;36mgetavgmarks\u001b[0;34m(D)\u001b[0m\n\u001b[1;32m      5\u001b[0m     s\u001b[38;5;241m=\u001b[39m\u001b[38;5;241m0\u001b[39m\n\u001b[1;32m      6\u001b[0m     \u001b[38;5;28;01mfor\u001b[39;00m marks \u001b[38;5;129;01min\u001b[39;00m l:\n\u001b[0;32m----> 7\u001b[0m         s\u001b[38;5;241m+\u001b[39m\u001b[38;5;241m=\u001b[39m\u001b[38;5;28;43mint\u001b[39;49m\u001b[43m(\u001b[49m\u001b[43mmarks\u001b[49m\u001b[43m)\u001b[49m\n\u001b[1;32m      8\u001b[0m     avgmarks\u001b[38;5;241m=\u001b[39ms\u001b[38;5;241m/\u001b[39m\u001b[38;5;28mlen\u001b[39m(l)\n\u001b[1;32m      9\u001b[0m \u001b[38;5;28;01mreturn\u001b[39;00m avgmarks\n",
      "\u001b[0;31mValueError\u001b[0m: invalid literal for int() with base 10: ''"
     ]
    }
   ],
   "source": [
    "avrmark=getavgmarks(studentdate)"
   ]
  },
  {
   "cell_type": "code",
   "execution_count": 117,
   "id": "49fcd3e5",
   "metadata": {},
   "outputs": [
    {
     "ename": "NameError",
     "evalue": "name 'avrmark' is not defined",
     "output_type": "error",
     "traceback": [
      "\u001b[0;31m---------------------------------------------------------------------------\u001b[0m",
      "\u001b[0;31mNameError\u001b[0m                                 Traceback (most recent call last)",
      "Input \u001b[0;32mIn [117]\u001b[0m, in \u001b[0;36m<cell line: 1>\u001b[0;34m()\u001b[0m\n\u001b[0;32m----> 1\u001b[0m \u001b[43mavrmark\u001b[49m\n",
      "\u001b[0;31mNameError\u001b[0m: name 'avrmark' is not defined"
     ]
    }
   ],
   "source": [
    "avrmark"
   ]
  },
  {
   "cell_type": "code",
   "execution_count": 118,
   "id": "75de299e",
   "metadata": {},
   "outputs": [
    {
     "name": "stdout",
     "output_type": "stream",
     "text": [
      "['AAAA', 'aaa']\n"
     ]
    }
   ],
   "source": [
    "l=[\"aaa\",\"AAAA\"]\n",
    "l.sort()   #tim sort this function work under the merge and insertion sort \n",
    "print(l)"
   ]
  },
  {
   "cell_type": "code",
   "execution_count": 3,
   "id": "f6e7aa27",
   "metadata": {},
   "outputs": [
    {
     "name": "stdout",
     "output_type": "stream",
     "text": [
      "10 20\n",
      "(20, 10)\n"
     ]
    }
   ],
   "source": [
    "def swap(a,b):\n",
    "    tmp=a\n",
    "    a=b\n",
    "    b=tmp\n",
    "    return a,b\n",
    "a=10\n",
    "b=20\n",
    "swap(a,b)\n",
    "print(a,b)\n",
    "print(swap(a,b))"
   ]
  },
  {
   "cell_type": "code",
   "execution_count": 1,
   "id": "c341c9e1",
   "metadata": {},
   "outputs": [],
   "source": [
    "def add(x,y):\n",
    "    print(x+y)"
   ]
  },
  {
   "cell_type": "code",
   "execution_count": 2,
   "id": "1bbdbd6a",
   "metadata": {},
   "outputs": [
    {
     "name": "stdout",
     "output_type": "stream",
     "text": [
      "333\n"
     ]
    }
   ],
   "source": [
    "add(111,222)"
   ]
  },
  {
   "cell_type": "code",
   "execution_count": 4,
   "id": "316e716e",
   "metadata": {},
   "outputs": [],
   "source": [
    "def subtract(a,b):\n",
    "    return a-b"
   ]
  },
  {
   "cell_type": "code",
   "execution_count": 5,
   "id": "87456751",
   "metadata": {},
   "outputs": [],
   "source": [
    "ans=subtract(222,111)"
   ]
  },
  {
   "cell_type": "code",
   "execution_count": 6,
   "id": "d96cf3df",
   "metadata": {},
   "outputs": [
    {
     "data": {
      "text/plain": [
       "111"
      ]
     },
     "execution_count": 6,
     "metadata": {},
     "output_type": "execute_result"
    }
   ],
   "source": [
    "ans"
   ]
  },
  {
   "cell_type": "code",
   "execution_count": null,
   "id": "8098441f",
   "metadata": {},
   "outputs": [],
   "source": []
  }
 ],
 "metadata": {
  "kernelspec": {
   "display_name": "Python 3 (ipykernel)",
   "language": "python",
   "name": "python3"
  },
  "language_info": {
   "codemirror_mode": {
    "name": "ipython",
    "version": 3
   },
   "file_extension": ".py",
   "mimetype": "text/x-python",
   "name": "python",
   "nbconvert_exporter": "python",
   "pygments_lexer": "ipython3",
   "version": "3.10.12"
  }
 },
 "nbformat": 4,
 "nbformat_minor": 5
}
