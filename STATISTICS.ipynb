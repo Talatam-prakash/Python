{
 "cells": [
  {
   "cell_type": "markdown",
   "id": "e02fe860",
   "metadata": {},
   "source": [
    "### DOT PRODUCT"
   ]
  },
  {
   "cell_type": "code",
   "execution_count": 11,
   "id": "413ae89e",
   "metadata": {},
   "outputs": [],
   "source": [
    "def dot_product(x,y):\n",
    "   return sum(i*j for i,j in zip(x,y,strict=True))"
   ]
  },
  {
   "cell_type": "code",
   "execution_count": 12,
   "id": "bd863fa4",
   "metadata": {},
   "outputs": [
    {
     "data": {
      "text/plain": [
       "5"
      ]
     },
     "execution_count": 12,
     "metadata": {},
     "output_type": "execute_result"
    }
   ],
   "source": [
    "dot_product([3,2,6],[1,7,-2])"
   ]
  },
  {
   "cell_type": "markdown",
   "id": "371bf005",
   "metadata": {},
   "source": [
    "### Norm of a vector => [1,2,3] norm is sqrt(1*1+2*2+3*3)"
   ]
  },
  {
   "cell_type": "code",
   "execution_count": 16,
   "id": "b6fdb3eb",
   "metadata": {},
   "outputs": [],
   "source": [
    "import math\n",
    "def norm_vector(v):\n",
    "    dot_product=sum(i*i for i in v)\n",
    "    return math.sqrt(dot_product)"
   ]
  },
  {
   "cell_type": "code",
   "execution_count": 17,
   "id": "bf5cf860",
   "metadata": {},
   "outputs": [
    {
     "data": {
      "text/plain": [
       "7.416198487095663"
      ]
     },
     "execution_count": 17,
     "metadata": {},
     "output_type": "execute_result"
    }
   ],
   "source": [
    "norm_vector([-1,-2,3,4,5])"
   ]
  },
  {
   "cell_type": "markdown",
   "id": "d4328ef3",
   "metadata": {},
   "source": [
    "### Matrix Addition"
   ]
  },
  {
   "cell_type": "code",
   "execution_count": 18,
   "id": "2a385962",
   "metadata": {},
   "outputs": [],
   "source": [
    "def matrix_addition(x,y):\n",
    "    if(len(x)!=len(y) or len(x[0])!=len(y[0])):\n",
    "        print(\"sum is not calculated\")\n",
    "    else:\n",
    "        for i in range(len(x)):\n",
    "            for j in range(len(x[0])):\n",
    "                x[i][j]=x[i][j]+y[i][j]\n",
    "    return x\n"
   ]
  },
  {
   "cell_type": "code",
   "execution_count": 19,
   "id": "3a76151e",
   "metadata": {},
   "outputs": [
    {
     "data": {
      "text/plain": [
       "[[2, 4, 6], [2, 4, 6]]"
      ]
     },
     "execution_count": 19,
     "metadata": {},
     "output_type": "execute_result"
    }
   ],
   "source": [
    "matrix_addition([[1,2,3],[1,2,3]],[[1,2,3],[1,2,3]])"
   ]
  },
  {
   "cell_type": "markdown",
   "id": "eb597c9f",
   "metadata": {},
   "source": [
    "### Scalar Multiplication"
   ]
  },
  {
   "cell_type": "code",
   "execution_count": 22,
   "id": "22b6ec7e",
   "metadata": {},
   "outputs": [],
   "source": [
    "def scalar_mul(c,x):\n",
    "    for i in range(len(x)):\n",
    "        for j in range(len(x[0])):\n",
    "            x[i][j]=c*x[i][j]\n",
    "    return x"
   ]
  },
  {
   "cell_type": "code",
   "execution_count": 23,
   "id": "d250cd95",
   "metadata": {},
   "outputs": [
    {
     "data": {
      "text/plain": [
       "[[2, 4, 6], [8, 10, 12]]"
      ]
     },
     "execution_count": 23,
     "metadata": {},
     "output_type": "execute_result"
    }
   ],
   "source": [
    "scalar_mul(2,[[1,2,3],[4,5,6]])"
   ]
  },
  {
   "cell_type": "markdown",
   "id": "19dba0a6",
   "metadata": {},
   "source": [
    "### Matrix multiplication"
   ]
  },
  {
   "cell_type": "code",
   "execution_count": 34,
   "id": "6ea97387",
   "metadata": {},
   "outputs": [],
   "source": [
    "def matrix_mul(x,y):\n",
    "    z=x\n",
    "    if(len(x[0])!=len(y)):\n",
    "        print(\"multiplication is not defined\")\n",
    "    else :\n",
    "        for i in range(len(x)):\n",
    "            for j in range(len(y[0])):\n",
    "                z[i][j]=0\n",
    "                for k in range(len(x[0])):\n",
    "                    z[i][j]+=x[i][k]*y[k][j]\n",
    "               \n",
    "    return z"
   ]
  },
  {
   "cell_type": "code",
   "execution_count": 35,
   "id": "cd4f1afe",
   "metadata": {},
   "outputs": [
    {
     "data": {
      "text/plain": [
       "[[2, 5, 14], [2, 5, 14], [2, 5, 14]]"
      ]
     },
     "execution_count": 35,
     "metadata": {},
     "output_type": "execute_result"
    }
   ],
   "source": [
    "matrix_mul([[1,1,1],[1,1,1],[1,1,1]],[[1,1,1],[1,1,1],[1,1,1]])"
   ]
  },
  {
   "cell_type": "code",
   "execution_count": null,
   "id": "12268d3f",
   "metadata": {},
   "outputs": [],
   "source": []
  }
 ],
 "metadata": {
  "kernelspec": {
   "display_name": "Python 3 (ipykernel)",
   "language": "python",
   "name": "python3"
  },
  "language_info": {
   "codemirror_mode": {
    "name": "ipython",
    "version": 3
   },
   "file_extension": ".py",
   "mimetype": "text/x-python",
   "name": "python",
   "nbconvert_exporter": "python",
   "pygments_lexer": "ipython3",
   "version": "3.10.6"
  }
 },
 "nbformat": 4,
 "nbformat_minor": 5
}
