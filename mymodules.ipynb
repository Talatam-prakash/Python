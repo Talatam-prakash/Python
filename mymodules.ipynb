{
 "cells": [
  {
   "cell_type": "code",
   "execution_count": null,
   "id": "806316e8",
   "metadata": {},
   "outputs": [],
   "source": [
    "def add1(x,y):\n",
    "    return x+y\n",
    "\n",
    "myname=\"ASH\"\n",
    "\n",
    "def divisableby2(num):\n",
    "    if(num%2==0):\n",
    "        return True\n",
    "    return False\n"
   ]
  },
  {
   "cell_type": "code",
   "execution_count": 44,
   "id": "0b3e6661",
   "metadata": {},
   "outputs": [
    {
     "name": "stdout",
     "output_type": "stream",
     "text": [
      "4096 is power of two\n"
     ]
    }
   ],
   "source": [
    "def ispowertwo(num):\n",
    "    for i in range((num//2)+1):\n",
    "        if(num==2**i):\n",
    "            return True\n",
    "    else:\n",
    "        return False\n",
    "num=4096\n",
    "if(ispowertwo(num)):\n",
    "    print(num,\"is power of two\")\n",
    "else:\n",
    "    print(num,\"is not power of two\")"
   ]
  },
  {
   "cell_type": "code",
   "execution_count": 7,
   "id": "8b8c0b73",
   "metadata": {},
   "outputs": [
    {
     "name": "stdout",
     "output_type": "stream",
     "text": [
      "[2, 4, 7, 9, 12, 23, 25, 28, 30, 30, 40, 41, 42, 43, 44, 48, 50]\n",
      "2 25\n",
      "4 28\n",
      "7 30\n",
      "9 30\n",
      "12 40\n",
      "23 41\n",
      "25 42\n",
      "28 43\n",
      "30 44\n",
      "30 48\n",
      "40 50\n"
     ]
    },
    {
     "data": {
      "text/plain": [
       "10"
      ]
     },
     "execution_count": 7,
     "metadata": {},
     "output_type": "execute_result"
    }
   ],
   "source": [
    "def minimum_difference(li,m):\n",
    "    mi_li=sorted(li)\n",
    "    mini=100\n",
    "    for i in range(len(li)):\n",
    "        if(m+i<len(li)+1):\n",
    "            arr_li=mi_li[i:m+i]\n",
    "            min_value=min(arr_li)\n",
    "            max_value=max(arr_li)\n",
    "            print(min_value,max_value)\n",
    "            if(max_value-min_value<mini):\n",
    "                mini=max_value-min_value\n",
    "                \n",
    "    return mini\n",
    "li1=[12,4,7,9,2,23,25,41,30,40,28,42,30,44,48,43,50]\n",
    "m=7\n",
    "print(sorted(li1))\n",
    "minimum_difference(li1,m)"
   ]
  },
  {
   "cell_type": "code",
   "execution_count": 3,
   "id": "8201670a",
   "metadata": {},
   "outputs": [
    {
     "name": "stdout",
     "output_type": "stream",
     "text": [
      "3\n"
     ]
    }
   ],
   "source": [
    "print(3%5)"
   ]
  },
  {
   "cell_type": "code",
   "execution_count": 6,
   "id": "fff0d8c6",
   "metadata": {},
   "outputs": [],
   "source": [
    "import numpy as np"
   ]
  },
  {
   "cell_type": "code",
   "execution_count": 7,
   "id": "54190447",
   "metadata": {},
   "outputs": [
    {
     "name": "stdout",
     "output_type": "stream",
     "text": [
      "[1, 2, 3]\n",
      "[1, 2, 3, 4]\n"
     ]
    }
   ],
   "source": [
    "def appendnm(arr):\n",
    "    arr.append(4)\n",
    "arr=[1,2,3]\n",
    "print(arr)\n",
    "appendnm(arr)\n",
    "print(arr)"
   ]
  },
  {
   "cell_type": "code",
   "execution_count": 8,
   "id": "c410cce9",
   "metadata": {},
   "outputs": [],
   "source": [
    "arr=np.array([[1,2,3],[4,5,6],[7,8,9]])"
   ]
  },
  {
   "cell_type": "code",
   "execution_count": 9,
   "id": "96ceed88",
   "metadata": {},
   "outputs": [
    {
     "data": {
      "text/plain": [
       "array([[1, 2, 3],\n",
       "       [4, 5, 6],\n",
       "       [7, 8, 9]])"
      ]
     },
     "execution_count": 9,
     "metadata": {},
     "output_type": "execute_result"
    }
   ],
   "source": [
    "arr"
   ]
  },
  {
   "cell_type": "code",
   "execution_count": 47,
   "id": "144421bb",
   "metadata": {},
   "outputs": [
    {
     "name": "stdout",
     "output_type": "stream",
     "text": [
      "[[9 8 7]\n",
      " [6 5 4]\n",
      " [3 2 1]]\n"
     ]
    }
   ],
   "source": [
    "print(np.rot90(np.rot90(arr,k=3,axes=(1,0))))"
   ]
  },
  {
   "cell_type": "code",
   "execution_count": 8,
   "id": "07f36d5d",
   "metadata": {},
   "outputs": [
    {
     "name": "stdout",
     "output_type": "stream",
     "text": [
      "[0, 1, 2, 4, 5, 3]\n"
     ]
    }
   ],
   "source": [
    "nums = [0,2,1,5,3,4]\n",
    "\n",
    "print(ans)"
   ]
  },
  {
   "cell_type": "code",
   "execution_count": null,
   "id": "a159bf8b",
   "metadata": {},
   "outputs": [],
   "source": [
    "operations =[\"X++\",\"++X\",\"--X\",\"X--\"]\n",
    "X=0\n",
    "for i in range(len(operations)):\n",
    "    if(operations[i]==\"X++\" or operations[i]==\"++X\"):\n",
    "        X+=1\n",
    "    if(operations[i]==\"X--\" or operations[i]==\"--X\"):\n",
    "        X-=1\n",
    "print(X)"
   ]
  },
  {
   "cell_type": "code",
   "execution_count": 2,
   "id": "4d4431e9",
   "metadata": {},
   "outputs": [
    {
     "name": "stdout",
     "output_type": "stream",
     "text": [
      "48\n"
     ]
    }
   ],
   "source": [
    "print(12<<2)"
   ]
  },
  {
   "cell_type": "code",
   "execution_count": 5,
   "id": "b50eed12",
   "metadata": {},
   "outputs": [
    {
     "name": "stdout",
     "output_type": "stream",
     "text": [
      "2\n"
     ]
    }
   ],
   "source": [
    "a=32\n",
    "b=27\n",
    "res=13\n",
    "count=0\n",
    "while((res&res-1)!=0):\n",
    "    count+=1\n",
    "    res=res&res-1\n",
    "print(count)"
   ]
  },
  {
   "cell_type": "code",
   "execution_count": null,
   "id": "1f45e504",
   "metadata": {},
   "outputs": [],
   "source": []
  }
 ],
 "metadata": {
  "kernelspec": {
   "display_name": "Python 3 (ipykernel)",
   "language": "python",
   "name": "python3"
  },
  "language_info": {
   "codemirror_mode": {
    "name": "ipython",
    "version": 3
   },
   "file_extension": ".py",
   "mimetype": "text/x-python",
   "name": "python",
   "nbconvert_exporter": "python",
   "pygments_lexer": "ipython3",
   "version": "3.10.12"
  }
 },
 "nbformat": 4,
 "nbformat_minor": 5
}
